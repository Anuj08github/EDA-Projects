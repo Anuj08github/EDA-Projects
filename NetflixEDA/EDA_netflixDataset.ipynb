{
 "cells": [
  {
   "cell_type": "markdown",
   "id": "91d08076",
   "metadata": {},
   "source": [
    "# Import Libraries"
   ]
  },
  {
   "cell_type": "code",
   "execution_count": 1,
   "id": "a7cc534c",
   "metadata": {},
   "outputs": [],
   "source": [
    "import pandas as pd\n",
    "import numpy as np\n",
    "import matplotlib.pyplot as plt"
   ]
  },
  {
   "cell_type": "markdown",
   "id": "c4e3ef11",
   "metadata": {},
   "source": [
    "# Load Dataset And Basic structure of Dataset"
   ]
  },
  {
   "cell_type": "code",
   "execution_count": 2,
   "id": "eb91af7a",
   "metadata": {},
   "outputs": [
    {
     "name": "stdout",
     "output_type": "stream",
     "text": [
      "shape of Netflix Dataset is:\n",
      " (8807, 12)\n",
      "Columns name of Netflix Dataset is:\n",
      " Index(['show_id', 'type', 'title', 'director', 'cast', 'country', 'date_added',\n",
      "       'release_year', 'rating', 'duration', 'listed_in', 'description'],\n",
      "      dtype='object')\n",
      "Data types of the data is:\n",
      " show_id         object\n",
      "type            object\n",
      "title           object\n",
      "director        object\n",
      "cast            object\n",
      "country         object\n",
      "date_added      object\n",
      "release_year     int64\n",
      "rating          object\n",
      "duration        object\n",
      "listed_in       object\n",
      "description     object\n",
      "dtype: object\n"
     ]
    }
   ],
   "source": [
    "df = pd.read_csv('netflix_titles.csv')\n",
    "# print(df)\n",
    "print(\"shape of Netflix Dataset is:\\n\",df.shape)\n",
    "print(\"Columns name of Netflix Dataset is:\\n\",df.columns)\n",
    "print(\"Data types of the data is:\\n\",df.dtypes)"
   ]
  },
  {
   "cell_type": "code",
   "execution_count": 3,
   "id": "9a1ae1a5",
   "metadata": {},
   "outputs": [
    {
     "name": "stdout",
     "output_type": "stream",
     "text": [
      "  show_id     type                  title         director  \\\n",
      "0      s1    Movie   Dick Johnson Is Dead  Kirsten Johnson   \n",
      "1      s2  TV Show          Blood & Water              NaN   \n",
      "2      s3  TV Show              Ganglands  Julien Leclercq   \n",
      "3      s4  TV Show  Jailbirds New Orleans              NaN   \n",
      "4      s5  TV Show           Kota Factory              NaN   \n",
      "\n",
      "                                                cast        country  \\\n",
      "0                                                NaN  United States   \n",
      "1  Ama Qamata, Khosi Ngema, Gail Mabalane, Thaban...   South Africa   \n",
      "2  Sami Bouajila, Tracy Gotoas, Samuel Jouy, Nabi...            NaN   \n",
      "3                                                NaN            NaN   \n",
      "4  Mayur More, Jitendra Kumar, Ranjan Raj, Alam K...          India   \n",
      "\n",
      "           date_added  release_year rating   duration  \\\n",
      "0  September 25, 2021          2020  PG-13     90 min   \n",
      "1  September 24, 2021          2021  TV-MA  2 Seasons   \n",
      "2  September 24, 2021          2021  TV-MA   1 Season   \n",
      "3  September 24, 2021          2021  TV-MA   1 Season   \n",
      "4  September 24, 2021          2021  TV-MA  2 Seasons   \n",
      "\n",
      "                                           listed_in  \\\n",
      "0                                      Documentaries   \n",
      "1    International TV Shows, TV Dramas, TV Mysteries   \n",
      "2  Crime TV Shows, International TV Shows, TV Act...   \n",
      "3                             Docuseries, Reality TV   \n",
      "4  International TV Shows, Romantic TV Shows, TV ...   \n",
      "\n",
      "                                         description  \n",
      "0  As her father nears the end of his life, filmm...  \n",
      "1  After crossing paths at a party, a Cape Town t...  \n",
      "2  To protect his family from a powerful drug lor...  \n",
      "3  Feuds, flirtations and toilet talk go down amo...  \n",
      "4  In a city of coaching centers known to train I...   \n",
      "\n",
      "     show_id     type        title         director  \\\n",
      "8802   s8803    Movie       Zodiac    David Fincher   \n",
      "8803   s8804  TV Show  Zombie Dumb              NaN   \n",
      "8804   s8805    Movie   Zombieland  Ruben Fleischer   \n",
      "8805   s8806    Movie         Zoom     Peter Hewitt   \n",
      "8806   s8807    Movie       Zubaan      Mozez Singh   \n",
      "\n",
      "                                                   cast        country  \\\n",
      "8802  Mark Ruffalo, Jake Gyllenhaal, Robert Downey J...  United States   \n",
      "8803                                                NaN            NaN   \n",
      "8804  Jesse Eisenberg, Woody Harrelson, Emma Stone, ...  United States   \n",
      "8805  Tim Allen, Courteney Cox, Chevy Chase, Kate Ma...  United States   \n",
      "8806  Vicky Kaushal, Sarah-Jane Dias, Raaghav Chanan...          India   \n",
      "\n",
      "             date_added  release_year rating   duration  \\\n",
      "8802  November 20, 2019          2007      R    158 min   \n",
      "8803       July 1, 2019          2018  TV-Y7  2 Seasons   \n",
      "8804   November 1, 2019          2009      R     88 min   \n",
      "8805   January 11, 2020          2006     PG     88 min   \n",
      "8806      March 2, 2019          2015  TV-14    111 min   \n",
      "\n",
      "                                           listed_in  \\\n",
      "8802                  Cult Movies, Dramas, Thrillers   \n",
      "8803          Kids' TV, Korean TV Shows, TV Comedies   \n",
      "8804                         Comedies, Horror Movies   \n",
      "8805              Children & Family Movies, Comedies   \n",
      "8806  Dramas, International Movies, Music & Musicals   \n",
      "\n",
      "                                            description  \n",
      "8802  A political cartoonist, a crime reporter and a...  \n",
      "8803  While living alone in a spooky town, a young g...  \n",
      "8804  Looking to survive in a world taken over by zo...  \n",
      "8805  Dragged from civilian life, a former superhero...  \n",
      "8806  A scrappy but poor boy worms his way into a ty...  \n"
     ]
    }
   ],
   "source": [
    "print(df.head(),'\\n')\n",
    "print(df.tail())"
   ]
  },
  {
   "cell_type": "markdown",
   "id": "bd8a8fa5",
   "metadata": {},
   "source": [
    "# Understanding Summary Stats"
   ]
  },
  {
   "cell_type": "code",
   "execution_count": 4,
   "id": "ee085b92",
   "metadata": {},
   "outputs": [
    {
     "name": "stdout",
     "output_type": "stream",
     "text": [
      "Descriptive view of Dataset:\n",
      "       release_year\n",
      "count   8807.000000\n",
      "mean    2014.180198\n",
      "std        8.819312\n",
      "min     1925.000000\n",
      "25%     2013.000000\n",
      "50%     2017.000000\n",
      "75%     2019.000000\n",
      "max     2021.000000\n"
     ]
    }
   ],
   "source": [
    "print(f\"Descriptive view of Dataset:\\n{df.describe()}\")"
   ]
  },
  {
   "cell_type": "code",
   "execution_count": 5,
   "id": "d8ca14f1",
   "metadata": {},
   "outputs": [
    {
     "name": "stdout",
     "output_type": "stream",
     "text": [
      "Displaying information of the dataset\n",
      "<class 'pandas.core.frame.DataFrame'>\n",
      "RangeIndex: 8807 entries, 0 to 8806\n",
      "Data columns (total 12 columns):\n",
      " #   Column        Non-Null Count  Dtype \n",
      "---  ------        --------------  ----- \n",
      " 0   show_id       8807 non-null   object\n",
      " 1   type          8807 non-null   object\n",
      " 2   title         8807 non-null   object\n",
      " 3   director      6173 non-null   object\n",
      " 4   cast          7982 non-null   object\n",
      " 5   country       7976 non-null   object\n",
      " 6   date_added    8797 non-null   object\n",
      " 7   release_year  8807 non-null   int64 \n",
      " 8   rating        8803 non-null   object\n",
      " 9   duration      8804 non-null   object\n",
      " 10  listed_in     8807 non-null   object\n",
      " 11  description   8807 non-null   object\n",
      "dtypes: int64(1), object(11)\n",
      "memory usage: 825.8+ KB\n"
     ]
    }
   ],
   "source": [
    "print(\"Displaying information of the dataset\")\n",
    "df.info()"
   ]
  },
  {
   "cell_type": "code",
   "execution_count": 6,
   "id": "ad6eee41",
   "metadata": {},
   "outputs": [
    {
     "name": "stdout",
     "output_type": "stream",
     "text": [
      "Unique values in Dataset are: \n",
      " show_id         8807\n",
      "type               2\n",
      "title           8807\n",
      "director        4528\n",
      "cast            7692\n",
      "country          748\n",
      "date_added      1767\n",
      "release_year      74\n",
      "rating            17\n",
      "duration         220\n",
      "listed_in        514\n",
      "description     8775\n",
      "dtype: int64\n",
      "Number of Movies and TV Shows are:\n",
      " type\n",
      "Movie      6131\n",
      "TV Show    2676\n",
      "Name: count, dtype: int64\n",
      "Top countries content wise:\n",
      " country\n",
      "United States     2818\n",
      "India              972\n",
      "United Kingdom     419\n",
      "Japan              245\n",
      "South Korea        199\n",
      "Canada             181\n",
      "Spain              145\n",
      "France             124\n",
      "Mexico             110\n",
      "Egypt              106\n",
      "Name: count, dtype: int64\n"
     ]
    }
   ],
   "source": [
    "print(\"Unique values in Dataset are:\",\"\\n\",df.nunique())\n",
    "print(\"Number of Movies and TV Shows are:\\n\",df['type'].value_counts())\n",
    "print(\"Top countries content wise:\\n\",df['country'].value_counts().head(10))"
   ]
  },
  {
   "cell_type": "markdown",
   "id": "c7f8c874",
   "metadata": {},
   "source": [
    "# Check for missing values"
   ]
  },
  {
   "cell_type": "code",
   "execution_count": 7,
   "id": "aea9adf5",
   "metadata": {},
   "outputs": [
    {
     "name": "stdout",
     "output_type": "stream",
     "text": [
      "Count of each missing value:\n",
      " show_id            0\n",
      "type               0\n",
      "title              0\n",
      "director        2634\n",
      "cast             825\n",
      "country          831\n",
      "date_added        10\n",
      "release_year       0\n",
      "rating             4\n",
      "duration           3\n",
      "listed_in          0\n",
      "description        0\n",
      "dtype: int64\n",
      "Percentage of missing values:\n",
      " show_id          0.000000\n",
      "type             0.000000\n",
      "title            0.000000\n",
      "director        29.908028\n",
      "cast             9.367549\n",
      "country          9.435676\n",
      "date_added       0.113546\n",
      "release_year     0.000000\n",
      "rating           0.045418\n",
      "duration         0.034064\n",
      "listed_in        0.000000\n",
      "description      0.000000\n",
      "dtype: float64\n"
     ]
    }
   ],
   "source": [
    "print(\"Count of each missing value:\\n\",df.isna().sum())\n",
    "print(\"Percentage of missing values:\\n\",df.isna().mean()*100)"
   ]
  },
  {
   "cell_type": "markdown",
   "id": "bc742ee6",
   "metadata": {},
   "source": [
    "# Handling Missing Values"
   ]
  },
  {
   "cell_type": "code",
   "execution_count": 8,
   "id": "36c301f3",
   "metadata": {},
   "outputs": [
    {
     "name": "stdout",
     "output_type": "stream",
     "text": [
      "show_id         0\n",
      "type            0\n",
      "title           0\n",
      "director        0\n",
      "cast            0\n",
      "country         0\n",
      "date_added      0\n",
      "release_year    0\n",
      "rating          0\n",
      "duration        0\n",
      "listed_in       0\n",
      "description     0\n",
      "dtype: int64\n"
     ]
    }
   ],
   "source": [
    "#for Director\n",
    "df['director'] = df['director'].fillna('Unknown')\n",
    "#for cast\n",
    "df['cast'] = df['cast'].fillna('Unknown')\n",
    "#for Country\n",
    "df['country'] = df['country'].fillna('Unknown')\n",
    "#rating\n",
    "df['rating'] = df['rating'].fillna('Unknown')\n",
    "#Duration\n",
    "df['duration'] = df['duration'].fillna('Unknown')\n",
    "#date_added\n",
    "df.dropna(subset=['date_added'],inplace=True)\n",
    "print(df.isna().sum())\n"
   ]
  },
  {
   "cell_type": "code",
   "execution_count": 9,
   "id": "680922cb",
   "metadata": {},
   "outputs": [
    {
     "name": "stdout",
     "output_type": "stream",
     "text": [
      "show_id                 object\n",
      "type                    object\n",
      "title                   object\n",
      "director                object\n",
      "cast                    object\n",
      "country                 object\n",
      "date_added      datetime64[ns]\n",
      "release_year             int64\n",
      "rating                  object\n",
      "duration                object\n",
      "listed_in               object\n",
      "description             object\n",
      "Year_added             float64\n",
      "Month_added            float64\n",
      "dtype: object\n",
      "show_id         8797\n",
      "type               2\n",
      "title           8797\n",
      "director        4529\n",
      "cast            7683\n",
      "country          749\n",
      "date_added      1699\n",
      "release_year      74\n",
      "rating            18\n",
      "duration         221\n",
      "listed_in        513\n",
      "description     8765\n",
      "Year_added        14\n",
      "Month_added       12\n",
      "dtype: int64\n"
     ]
    }
   ],
   "source": [
    "df['date_added'] = pd.to_datetime(df['date_added'], errors = 'coerce')\n",
    "df['Year_added'] = df['date_added'].dt.year\n",
    "df['Month_added'] = df['date_added'].dt.month\n",
    "# print(df.head())\n",
    "print(df.dtypes) # printing the datatypes of columns\n",
    "print(df.nunique())"
   ]
  },
  {
   "cell_type": "code",
   "execution_count": 10,
   "id": "36b4e814",
   "metadata": {},
   "outputs": [
    {
     "name": "stdout",
     "output_type": "stream",
     "text": [
      "Year_added\n",
      "2008.0       2\n",
      "2009.0       2\n",
      "2010.0       1\n",
      "2011.0      13\n",
      "2012.0       3\n",
      "2013.0      10\n",
      "2014.0      23\n",
      "2015.0      73\n",
      "2016.0     418\n",
      "2017.0    1164\n",
      "2018.0    1625\n",
      "2019.0    1999\n",
      "2020.0    1878\n",
      "2021.0    1498\n",
      "Name: count, dtype: int64\n",
      "longest and shortest duration is:\n",
      "     show_id     type                                 title  \\\n",
      "5813   s5814    Movie  Louis C.K.: Live at the Comedy Store   \n",
      "5541   s5542    Movie                       Louis C.K. 2017   \n",
      "5794   s5795    Movie                 Louis C.K.: Hilarious   \n",
      "5548   s5549    Movie                              Life 2.0   \n",
      "6415   s6416    Movie                              Candyman   \n",
      "...      ...      ...                                   ...   \n",
      "5800   s5801  TV Show            Kulipari: An Army of Frogs   \n",
      "7215   s7216  TV Show                       Kitten Rescuers   \n",
      "7214   s7215  TV Show                       Kiss The Series   \n",
      "5801   s5802  TV Show                            Conspiracy   \n",
      "5089   s5090  TV Show                 Tundukkan Playboy Itu   \n",
      "\n",
      "                 director                                               cast  \\\n",
      "5813           Louis C.K.                                         Louis C.K.   \n",
      "5541           Louis C.K.                                         Louis C.K.   \n",
      "5794           Louis C.K.                                         Louis C.K.   \n",
      "5548  Jason Spingarn-Koff                                            Unknown   \n",
      "6415         Bernard Rose  Virginia Madsen, Tony Todd, Xander Berkeley, K...   \n",
      "...                   ...                                                ...   \n",
      "5800              Unknown  Mark Hamill, Keith David, Wendie Malick, Josh ...   \n",
      "7215              Unknown                                           Jo Brand   \n",
      "7214              Unknown  Lapassalal Jiravechsoontornkul, Mook Worranit ...   \n",
      "5801              Unknown                                       Mark Bazeley   \n",
      "5089              Unknown  Hafidz Roshdi, Uqasha Senrose, Alif Satar, Maw...   \n",
      "\n",
      "                            country date_added  release_year  rating  \\\n",
      "5813                  United States 2016-08-15          2015  66 min   \n",
      "5541                  United States 2017-04-04          2017  74 min   \n",
      "5794                  United States 2016-09-16          2010  84 min   \n",
      "5548                  United States 2017-04-01          2010   TV-MA   \n",
      "6415  United States, United Kingdom 2019-10-01          1992       R   \n",
      "...                             ...        ...           ...     ...   \n",
      "5800                  United States 2016-09-02          2016   TV-Y7   \n",
      "7215                 United Kingdom 2019-10-02          2017   TV-14   \n",
      "7214                        Unknown 2019-05-26          2016   TV-14   \n",
      "5801                 United Kingdom 2016-09-01          2015   TV-14   \n",
      "5089                        Unknown 2018-01-08          2016   TV-PG   \n",
      "\n",
      "      duration                                          listed_in  \\\n",
      "5813   Unknown                                             Movies   \n",
      "5541   Unknown                                             Movies   \n",
      "5794   Unknown                                             Movies   \n",
      "5548    99 min                                      Documentaries   \n",
      "6415    99 min                         Cult Movies, Horror Movies   \n",
      "...        ...                                                ...   \n",
      "5800  1 Season                                           Kids' TV   \n",
      "7215  1 Season  British TV Shows, International TV Shows, Real...   \n",
      "7214  1 Season  International TV Shows, Romantic TV Shows, TV ...   \n",
      "5801  1 Season                       British TV Shows, Docuseries   \n",
      "5089  1 Season  International TV Shows, Romantic TV Shows, TV ...   \n",
      "\n",
      "                                            description  Year_added  \\\n",
      "5813  The comic puts his trademark hilarious/thought...      2016.0   \n",
      "5541  Louis C.K. muses on religion, eternal love, gi...      2017.0   \n",
      "5794  Emmy-winning comedy writer Louis C.K. brings h...      2016.0   \n",
      "5548  Computer users across the globe log onto the v...      2017.0   \n",
      "6415  Grad student Helen Lyle unintentionally summon...      2019.0   \n",
      "...                                                 ...         ...   \n",
      "5800  In a tale of bravery and heroism, fearless fro...      2016.0   \n",
      "7215  Cat-crazy host Jo Brand follows vets and anima...      2019.0   \n",
      "7214  After a night out, Sandee wakes to discover sh...      2019.0   \n",
      "5801  Skeptics and others discuss widely held conspi...      2016.0   \n",
      "5089  Under pressure from his parents to settle down...      2018.0   \n",
      "\n",
      "      Month_added  \n",
      "5813          8.0  \n",
      "5541          4.0  \n",
      "5794          9.0  \n",
      "5548          4.0  \n",
      "6415         10.0  \n",
      "...           ...  \n",
      "5800          9.0  \n",
      "7215         10.0  \n",
      "7214          5.0  \n",
      "5801          9.0  \n",
      "5089          1.0  \n",
      "\n",
      "[8797 rows x 14 columns]\n"
     ]
    }
   ],
   "source": [
    "# Content added per year\n",
    "contentPerYear = df['Year_added'].value_counts().sort_index()\n",
    "print(contentPerYear)\n",
    "# Longest and Shortest duration of the content\n",
    "print(\"longest and shortest duration is:\")\n",
    "lSDuration = df.sort_values('duration',ascending=False)\n",
    "print(lSDuration)"
   ]
  },
  {
   "cell_type": "code",
   "execution_count": 11,
   "id": "85435aec",
   "metadata": {},
   "outputs": [
    {
     "data": {
      "text/plain": [
       "np.int64(0)"
      ]
     },
     "execution_count": 11,
     "metadata": {},
     "output_type": "execute_result"
    }
   ],
   "source": [
    "df.duplicated().sum()"
   ]
  },
  {
   "cell_type": "markdown",
   "id": "89cbc7c1",
   "metadata": {},
   "source": [
    "# Filtering and Subsetting"
   ]
  },
  {
   "cell_type": "code",
   "execution_count": 12,
   "id": "7528f500",
   "metadata": {},
   "outputs": [
    {
     "data": {
      "image/png": "[encoded data removed]",
      "text/plain": [
       "<Figure size 640x480 with 1 Axes>"
      ]
     },
     "metadata": {},
     "output_type": "display_data"
    }
   ],
   "source": [
    "# how many movies and tv shows\n",
    "count = df['type'].value_counts()\n",
    "# count.plot(kind = 'bar',color = ['green','orange'])\n",
    "plt.bar(count.index,count.values,color = ['green','orange']) # another way of doing this\n",
    "plt.xlabel(\"Type of Content on Netflix\")\n",
    "plt.ylabel(\"Content Count\")\n",
    "plt.title('Netflix Content')\n",
    "plt.grid(True)\n",
    "plt.show()\n"
   ]
  },
  {
   "cell_type": "code",
   "execution_count": 13,
   "id": "be1743bd",
   "metadata": {},
   "outputs": [
    {
     "data": {
      "image/png": "[encoded data removed]",
      "text/plain": [
       "<Figure size 640x480 with 1 Axes>"
      ]
     },
     "metadata": {},
     "output_type": "display_data"
    }
   ],
   "source": [
    "#percentage of each content rating\n",
    "df['rating'].nunique()\n",
    "count = df['rating'].value_counts()\n",
    "plt.pie(count.values,labels = count.index,autopct = '%1.1f%%',colors = [\n",
    "    'gold', 'skyblue', 'lightgreen', 'green', 'orange',\n",
    "    'tomato', 'orchid', 'violet', 'deepskyblue', 'turquoise',\n",
    "    'slateblue', 'coral', 'khaki', 'limegreen', 'plum',\n",
    "    'peru', 'steelblue', 'crimson'\n",
    "]\n",
    " )\n",
    "plt.title(\"Content Rating\")\n",
    "plt.tight_layout()\n",
    "plt.show()\n"
   ]
  },
  {
   "cell_type": "code",
   "execution_count": 14,
   "id": "316069e8",
   "metadata": {},
   "outputs": [
    {
     "data": {
      "image/png": "[encoded data removed]",
      "text/plain": [
       "<Figure size 640x480 with 1 Axes>"
      ]
     },
     "metadata": {},
     "output_type": "display_data"
    }
   ],
   "source": [
    "# How has the number of movies released changed over the years\n",
    "df.columns\n",
    "count = df['release_year'].value_counts()\n",
    "plt.plot(count.index,count.values,color = 'gold')\n",
    "plt.xlabel('Years')\n",
    "plt.ylabel('No. of movies')\n",
    "plt.grid(True)\n",
    "plt.title('movie releases over the year')\n",
    "plt.show()"
   ]
  },
  {
   "cell_type": "code",
   "execution_count": 15,
   "id": "88e8593f",
   "metadata": {},
   "outputs": [
    {
     "name": "stderr",
     "output_type": "stream",
     "text": [
      "<>:7: SyntaxWarning: invalid escape sequence '\\d'\n",
      "<>:7: SyntaxWarning: invalid escape sequence '\\d'\n",
      "C:\\Users\\anujs\\AppData\\Local\\Temp\\ipykernel_4504\\2568271587.py:7: SyntaxWarning: invalid escape sequence '\\d'\n",
      "  df['duration_int'] = df['duration'].str.extract('(\\d+)').astype(float).astype('Int64')\n"
     ]
    },
    {
     "data": {
      "image/png": "[encoded data removed]",
      "text/plain": [
       "<Figure size 640x480 with 1 Axes>"
      ]
     },
     "metadata": {},
     "output_type": "display_data"
    }
   ],
   "source": [
    "# what is distribution of movie duration\n",
    "df.columns\n",
    "df.nunique()\n",
    "df['duration'].dtype\n",
    "df.head(2)\n",
    "# creating new column named duration_int to store numeric \n",
    "df['duration_int'] = df['duration'].str.extract('(\\d+)').astype(float).astype('Int64')\n",
    "plt.hist(df['duration_int'],30,color ='green',edgecolor = 'black')\n",
    "plt.xlabel('duration')\n",
    "plt.ylabel('No. of Content')\n",
    "plt.title('Distribution of movie duataion')\n",
    "plt.grid(True)\n",
    "plt.show()"
   ]
  },
  {
   "cell_type": "code",
   "execution_count": 16,
   "id": "0bfb1561",
   "metadata": {},
   "outputs": [
    {
     "data": {
      "image/png": "[encoded data removed]",
      "text/plain": [
       "<Figure size 640x480 with 1 Axes>"
      ]
     },
     "metadata": {},
     "output_type": "display_data"
    }
   ],
   "source": [
    "#Realtion between release year and no. of shows\n",
    "df.columns\n",
    "df['release_year'].nunique()\n",
    "count = df['release_year'].value_counts()\n",
    "plt.scatter(count.index,count.values,color='blue',marker='o',label = 'shows every year')\n",
    "plt.xlabel('Release Year')\n",
    "plt.ylabel('No. of Shows')\n",
    "plt.title(\"Realtion between release year and no. of shows\")\n",
    "plt.grid(True)\n",
    "plt.legend()\n",
    "plt.show()\n"
   ]
  },
  {
   "cell_type": "code",
   "execution_count": null,
   "id": "ac2be160",
   "metadata": {},
   "outputs": [],
   "source": [
    "# Top 10 countries with highest no. of shows\n",
    "df.columns\n",
    "#top 10 countries with highest no. of shows\n",
    "count = df['country'].value_counts().sort_values(ascending=False).head(10)\n",
    "plt.barh(count.index,count.values,color = 'orange',label = 'top 10 with Highest shows')   \n",
    "plt.xlabel = 'No.of shows'\n",
    "plt.ylabel = 'Country'\n",
    "plt.title = 'Top 10 countries with highest no. of shows'\n",
    "plt.grid(True)\n",
    "plt.legend()\n",
    "plt.show()"
   ]
  },
  {
   "cell_type": "code",
   "execution_count": 53,
   "id": "db9fe45e",
   "metadata": {},
   "outputs": [
    {
     "data": {
      "image/png": "[encoded data removed]",
      "text/plain": [
       "<Figure size 1000x500 with 2 Axes>"
      ]
     },
     "metadata": {},
     "output_type": "display_data"
    }
   ],
   "source": [
    "# Comparing Multiple plots together(Movies v/s tv shows by year)\n",
    "df.columns\n",
    "content_by_year = df.groupby(['release_year','type']).size().unstack().fillna(0)\n",
    "fig,ax = plt.subplots(1,2,figsize = (10,5))\n",
    "x = content_by_year.index\n",
    "y1 = content_by_year['Movie']\n",
    "y2 = content_by_year['TV Show']\n",
    "\n",
    "#Movies year wise\n",
    "ax[0].bar(x,y1,color = 'blue')\n",
    "ax[0].grid(True)\n",
    "ax[0].set_xlabel('Year')\n",
    "ax[0].set_ylabel('Movies')\n",
    "\n",
    "#TV shows year wise\n",
    "ax[1].bar(x,y2,color = 'gold')\n",
    "ax[1].set_xlabel('Year')\n",
    "ax[1].set_ylabel('T.V. Shows')\n",
    "ax[1].grid(True)\n",
    "plt.suptitle(\"Comparing movies v/s tv shows by year\")\n",
    "plt.tight_layout()\n",
    "plt.show()\n"
   ]
  },
  {
   "cell_type": "code",
   "execution_count": 18,
   "id": "719dc759",
   "metadata": {},
   "outputs": [
    {
     "name": "stdout",
     "output_type": "stream",
     "text": [
      "director\n",
      "Rajiv Chilaka             19\n",
      "Raúl Campos, Jan Suter    18\n",
      "Suhas Kadav               16\n",
      "Marcus Raboy              16\n",
      "Jay Karas                 14\n",
      "Name: count, dtype: int64\n"
     ]
    }
   ],
   "source": [
    "# Top 10 Directors with Most Titles\n",
    "# print(df.groupby('director')['title'].value_counts())\n",
    "TopDirector = df[df['director'] !='Unknown']['director'].value_counts().head()\n",
    "print(TopDirector)"
   ]
  },
  {
   "cell_type": "code",
   "execution_count": null,
   "id": "c23e3c3e",
   "metadata": {},
   "outputs": [
    {
     "data": {
      "text/plain": [
       "listed_in\n",
       "Dramas, International Movies                        362\n",
       "Documentaries                                       359\n",
       "Stand-Up Comedy                                     334\n",
       "Comedies, Dramas, International Movies              274\n",
       "Dramas, Independent Movies, International Movies    252\n",
       "Kids' TV                                            219\n",
       "Children & Family Movies                            215\n",
       "Children & Family Movies, Comedies                  201\n",
       "Documentaries, International Movies                 186\n",
       "Dramas, International Movies, Romantic Movies       180\n",
       "Name: count, dtype: int64"
      ]
     },
     "execution_count": 19,
     "metadata": {},
     "output_type": "execute_result"
    }
   ],
   "source": [
    "# Top 5 Most Common Genres\n",
    "df['listed_in'].value_counts().head(10)"
   ]
  },
  {
   "cell_type": "code",
   "execution_count": 54,
   "id": "be66f88b",
   "metadata": {},
   "outputs": [
    {
     "data": {
      "image/png": "[encoded data removed]",
      "text/plain": [
       "<Figure size 640x480 with 1 Axes>"
      ]
     },
     "metadata": {},
     "output_type": "display_data"
    }
   ],
   "source": [
    "# Top 10 countries with highest no. of shows\n",
    "df.columns\n",
    "#top 10 countries with highest no. of shows\n",
    "count = df['country'].value_counts().sort_values(ascending=False).head(10)\n",
    "plt.barh(count.index,count.values,color = 'orange',label = 'top 10 with Highest shows')   \n",
    "plt.xlabel = 'No.of shows'\n",
    "plt.ylabel = 'Country'\n",
    "plt.title = 'Top 10 countries with highest no. of shows'\n",
    "plt.grid(True)\n",
    "plt.legend()\n",
    "plt.show()"
   ]
  },
  {
   "cell_type": "code",
   "execution_count": 21,
   "id": "e678ab8f",
   "metadata": {},
   "outputs": [
    {
     "data": {
      "text/plain": [
       "Year_added\n",
       "2019.0    1999\n",
       "2020.0    1878\n",
       "2018.0    1625\n",
       "2021.0    1498\n",
       "2017.0    1164\n",
       "2016.0     418\n",
       "2015.0      73\n",
       "2014.0      23\n",
       "2011.0      13\n",
       "2013.0      10\n",
       "2012.0       3\n",
       "2009.0       2\n",
       "2008.0       2\n",
       "2010.0       1\n",
       "Name: count, dtype: int64"
      ]
     },
     "execution_count": 21,
     "metadata": {},
     "output_type": "execute_result"
    }
   ],
   "source": [
    "# Number of Titles Added Each Year\n",
    "df['Year_added'].value_counts()"
   ]
  },
  {
   "cell_type": "code",
   "execution_count": 22,
   "id": "149a2148",
   "metadata": {},
   "outputs": [
    {
     "data": {
      "text/html": [
       "<div>\n",
       "<style scoped>\n",
       "    .dataframe tbody tr th:only-of-type {\n",
       "        vertical-align: middle;\n",
       "    }\n",
       "\n",
       "    .dataframe tbody tr th {\n",
       "        vertical-align: top;\n",
       "    }\n",
       "\n",
       "    .dataframe thead th {\n",
       "        text-align: right;\n",
       "    }\n",
       "</style>\n",
       "<table border=\"1\" class=\"dataframe\">\n",
       "  <thead>\n",
       "    <tr style=\"text-align: right;\">\n",
       "      <th></th>\n",
       "      <th>title</th>\n",
       "      <th>duration</th>\n",
       "    </tr>\n",
       "  </thead>\n",
       "  <tbody>\n",
       "    <tr>\n",
       "      <th>5794</th>\n",
       "      <td>Louis C.K.: Hilarious</td>\n",
       "      <td>Unknown</td>\n",
       "    </tr>\n",
       "    <tr>\n",
       "      <th>5541</th>\n",
       "      <td>Louis C.K. 2017</td>\n",
       "      <td>Unknown</td>\n",
       "    </tr>\n",
       "    <tr>\n",
       "      <th>5813</th>\n",
       "      <td>Louis C.K.: Live at the Comedy Store</td>\n",
       "      <td>Unknown</td>\n",
       "    </tr>\n",
       "    <tr>\n",
       "      <th>6415</th>\n",
       "      <td>Candyman</td>\n",
       "      <td>99 min</td>\n",
       "    </tr>\n",
       "    <tr>\n",
       "      <th>3411</th>\n",
       "      <td>Up North</td>\n",
       "      <td>99 min</td>\n",
       "    </tr>\n",
       "    <tr>\n",
       "      <th>5893</th>\n",
       "      <td>Winter on Fire: Ukraine's Fight for Freedom</td>\n",
       "      <td>99 min</td>\n",
       "    </tr>\n",
       "    <tr>\n",
       "      <th>7924</th>\n",
       "      <td>Salem: His Sister's Father</td>\n",
       "      <td>99 min</td>\n",
       "    </tr>\n",
       "    <tr>\n",
       "      <th>3431</th>\n",
       "      <td>The Bling Lagosians</td>\n",
       "      <td>99 min</td>\n",
       "    </tr>\n",
       "    <tr>\n",
       "      <th>7534</th>\n",
       "      <td>My Dog is My Guide</td>\n",
       "      <td>99 min</td>\n",
       "    </tr>\n",
       "    <tr>\n",
       "      <th>5502</th>\n",
       "      <td>In the Shadow of Iris</td>\n",
       "      <td>99 min</td>\n",
       "    </tr>\n",
       "  </tbody>\n",
       "</table>\n",
       "</div>"
      ],
      "text/plain": [
       "                                            title duration\n",
       "5794                        Louis C.K.: Hilarious  Unknown\n",
       "5541                              Louis C.K. 2017  Unknown\n",
       "5813         Louis C.K.: Live at the Comedy Store  Unknown\n",
       "6415                                     Candyman   99 min\n",
       "3411                                     Up North   99 min\n",
       "5893  Winter on Fire: Ukraine's Fight for Freedom   99 min\n",
       "7924                   Salem: His Sister's Father   99 min\n",
       "3431                          The Bling Lagosians   99 min\n",
       "7534                           My Dog is My Guide   99 min\n",
       "5502                        In the Shadow of Iris   99 min"
      ]
     },
     "execution_count": 22,
     "metadata": {},
     "output_type": "execute_result"
    }
   ],
   "source": [
    "# Longest Movies on Netflix\n",
    "df[df['type'] == 'Movie'].sort_values('duration', ascending=False)[['title', 'duration']].head(10)"
   ]
  },
  {
   "cell_type": "code",
   "execution_count": 23,
   "id": "a63ac2a8",
   "metadata": {},
   "outputs": [
    {
     "data": {
      "text/plain": [
       "5955                       Splatter\n",
       "5956        Just Another Love Story\n",
       "5957           To and From New York\n",
       "7370    Mad Ron's Prevues from Hell\n",
       "Name: title, dtype: object"
      ]
     },
     "execution_count": 23,
     "metadata": {},
     "output_type": "execute_result"
    }
   ],
   "source": [
    "#Movies Released Before 2011\n",
    "df[(df['type']=='Movie') & (df['Year_added']<2011)]['title']"
   ]
  },
  {
   "cell_type": "code",
   "execution_count": 24,
   "id": "bb080ad9",
   "metadata": {},
   "outputs": [
    {
     "data": {
      "text/html": [
       "<div>\n",
       "<style scoped>\n",
       "    .dataframe tbody tr th:only-of-type {\n",
       "        vertical-align: middle;\n",
       "    }\n",
       "\n",
       "    .dataframe tbody tr th {\n",
       "        vertical-align: top;\n",
       "    }\n",
       "\n",
       "    .dataframe thead th {\n",
       "        text-align: right;\n",
       "    }\n",
       "</style>\n",
       "<table border=\"1\" class=\"dataframe\">\n",
       "  <thead>\n",
       "    <tr style=\"text-align: right;\">\n",
       "      <th></th>\n",
       "      <th>show_id</th>\n",
       "      <th>type</th>\n",
       "      <th>title</th>\n",
       "      <th>director</th>\n",
       "      <th>cast</th>\n",
       "      <th>country</th>\n",
       "      <th>date_added</th>\n",
       "      <th>release_year</th>\n",
       "      <th>rating</th>\n",
       "      <th>duration</th>\n",
       "      <th>listed_in</th>\n",
       "      <th>description</th>\n",
       "      <th>Year_added</th>\n",
       "      <th>Month_added</th>\n",
       "      <th>duration_int</th>\n",
       "    </tr>\n",
       "  </thead>\n",
       "  <tbody>\n",
       "    <tr>\n",
       "      <th>922</th>\n",
       "      <td>s923</td>\n",
       "      <td>Movie</td>\n",
       "      <td>The Clovehitch Killer</td>\n",
       "      <td>Duncan Skiles</td>\n",
       "      <td>Dylan McDermott, Charlie Plummer, Samantha Mat...</td>\n",
       "      <td>United States</td>\n",
       "      <td>2021-05-04</td>\n",
       "      <td>2018</td>\n",
       "      <td>TV-MA</td>\n",
       "      <td>109 min</td>\n",
       "      <td>Dramas, Independent Movies, Thrillers</td>\n",
       "      <td>A teenager's picture-perfect family is torn ap...</td>\n",
       "      <td>2021.0</td>\n",
       "      <td>5.0</td>\n",
       "      <td>109</td>\n",
       "    </tr>\n",
       "    <tr>\n",
       "      <th>1509</th>\n",
       "      <td>s1510</td>\n",
       "      <td>Movie</td>\n",
       "      <td>Ariana grande: excuse me, i love you</td>\n",
       "      <td>Paul Dugdale</td>\n",
       "      <td>Ariana Grande</td>\n",
       "      <td>United States</td>\n",
       "      <td>2020-12-21</td>\n",
       "      <td>2020</td>\n",
       "      <td>TV-MA</td>\n",
       "      <td>98 min</td>\n",
       "      <td>Documentaries, Music &amp; Musicals</td>\n",
       "      <td>Ariana Grande takes the stage in London for he...</td>\n",
       "      <td>2020.0</td>\n",
       "      <td>12.0</td>\n",
       "      <td>98</td>\n",
       "    </tr>\n",
       "    <tr>\n",
       "      <th>2521</th>\n",
       "      <td>s2522</td>\n",
       "      <td>Movie</td>\n",
       "      <td>I love you, stupid</td>\n",
       "      <td>Laura Mañá</td>\n",
       "      <td>Quim Gutiérrez, Natalia Tena, Alfonso Bassave,...</td>\n",
       "      <td>Spain</td>\n",
       "      <td>2020-05-15</td>\n",
       "      <td>2019</td>\n",
       "      <td>TV-MA</td>\n",
       "      <td>88 min</td>\n",
       "      <td>Comedies, International Movies, Romantic Movies</td>\n",
       "      <td>After Marcos is dumped by his girlfriend, he a...</td>\n",
       "      <td>2020.0</td>\n",
       "      <td>5.0</td>\n",
       "      <td>88</td>\n",
       "    </tr>\n",
       "    <tr>\n",
       "      <th>2857</th>\n",
       "      <td>s2858</td>\n",
       "      <td>TV Show</td>\n",
       "      <td>Calico Critters Mini Episodes Clover</td>\n",
       "      <td>Unknown</td>\n",
       "      <td>Stephanie Sheh, Erika Harlacher, Julie Maddale...</td>\n",
       "      <td>Unknown</td>\n",
       "      <td>2020-03-01</td>\n",
       "      <td>2020</td>\n",
       "      <td>TV-Y</td>\n",
       "      <td>1 Season</td>\n",
       "      <td>Kids' TV</td>\n",
       "      <td>From throwing parties to planning fashion show...</td>\n",
       "      <td>2020.0</td>\n",
       "      <td>3.0</td>\n",
       "      <td>1</td>\n",
       "    </tr>\n",
       "    <tr>\n",
       "      <th>4833</th>\n",
       "      <td>s4834</td>\n",
       "      <td>Movie</td>\n",
       "      <td>Alex Strangelove</td>\n",
       "      <td>Craig Johnson</td>\n",
       "      <td>Daniel Doheny, Madeline Weinstein, Antonio Mar...</td>\n",
       "      <td>United States</td>\n",
       "      <td>2018-06-08</td>\n",
       "      <td>2018</td>\n",
       "      <td>TV-MA</td>\n",
       "      <td>100 min</td>\n",
       "      <td>Comedies, Dramas, Independent Movies</td>\n",
       "      <td>High school senior Alex Truelove's plan to los...</td>\n",
       "      <td>2018.0</td>\n",
       "      <td>6.0</td>\n",
       "      <td>100</td>\n",
       "    </tr>\n",
       "    <tr>\n",
       "      <th>5047</th>\n",
       "      <td>s5048</td>\n",
       "      <td>Movie</td>\n",
       "      <td>The Cloverfield Paradox</td>\n",
       "      <td>Julius Onah</td>\n",
       "      <td>Gugu Mbatha-Raw, David Oyelowo, Daniel Brühl, ...</td>\n",
       "      <td>United States</td>\n",
       "      <td>2018-02-05</td>\n",
       "      <td>2018</td>\n",
       "      <td>PG-13</td>\n",
       "      <td>102 min</td>\n",
       "      <td>Action &amp; Adventure, Sci-Fi &amp; Fantasy</td>\n",
       "      <td>Orbiting above a planet on the brink of war, s...</td>\n",
       "      <td>2018.0</td>\n",
       "      <td>2.0</td>\n",
       "      <td>102</td>\n",
       "    </tr>\n",
       "    <tr>\n",
       "      <th>5712</th>\n",
       "      <td>s5713</td>\n",
       "      <td>Movie</td>\n",
       "      <td>Donald Glover: Weirdo</td>\n",
       "      <td>Shannon Hartman, Michelle Caputo</td>\n",
       "      <td>Donald Glover</td>\n",
       "      <td>United States</td>\n",
       "      <td>2016-11-19</td>\n",
       "      <td>2012</td>\n",
       "      <td>TV-MA</td>\n",
       "      <td>65 min</td>\n",
       "      <td>Stand-Up Comedy</td>\n",
       "      <td>Fearlessly funny stand-up comic and sitcom sta...</td>\n",
       "      <td>2016.0</td>\n",
       "      <td>11.0</td>\n",
       "      <td>65</td>\n",
       "    </tr>\n",
       "    <tr>\n",
       "      <th>6503</th>\n",
       "      <td>s6504</td>\n",
       "      <td>Movie</td>\n",
       "      <td>Cloverfield</td>\n",
       "      <td>Matt Reeves</td>\n",
       "      <td>Lizzy Caplan, Jessica Lucas, T.J. Miller, Mich...</td>\n",
       "      <td>United States</td>\n",
       "      <td>2020-01-01</td>\n",
       "      <td>2008</td>\n",
       "      <td>PG-13</td>\n",
       "      <td>85 min</td>\n",
       "      <td>Action &amp; Adventure, Horror Movies, Sci-Fi &amp; Fa...</td>\n",
       "      <td>A going-away party in Manhattan is interrupted...</td>\n",
       "      <td>2020.0</td>\n",
       "      <td>1.0</td>\n",
       "      <td>85</td>\n",
       "    </tr>\n",
       "  </tbody>\n",
       "</table>\n",
       "</div>"
      ],
      "text/plain": [
       "     show_id     type                                 title  \\\n",
       "922     s923    Movie                 The Clovehitch Killer   \n",
       "1509   s1510    Movie  Ariana grande: excuse me, i love you   \n",
       "2521   s2522    Movie                    I love you, stupid   \n",
       "2857   s2858  TV Show  Calico Critters Mini Episodes Clover   \n",
       "4833   s4834    Movie                      Alex Strangelove   \n",
       "5047   s5048    Movie               The Cloverfield Paradox   \n",
       "5712   s5713    Movie                 Donald Glover: Weirdo   \n",
       "6503   s6504    Movie                           Cloverfield   \n",
       "\n",
       "                              director  \\\n",
       "922                      Duncan Skiles   \n",
       "1509                      Paul Dugdale   \n",
       "2521                        Laura Mañá   \n",
       "2857                           Unknown   \n",
       "4833                     Craig Johnson   \n",
       "5047                       Julius Onah   \n",
       "5712  Shannon Hartman, Michelle Caputo   \n",
       "6503                       Matt Reeves   \n",
       "\n",
       "                                                   cast        country  \\\n",
       "922   Dylan McDermott, Charlie Plummer, Samantha Mat...  United States   \n",
       "1509                                      Ariana Grande  United States   \n",
       "2521  Quim Gutiérrez, Natalia Tena, Alfonso Bassave,...          Spain   \n",
       "2857  Stephanie Sheh, Erika Harlacher, Julie Maddale...        Unknown   \n",
       "4833  Daniel Doheny, Madeline Weinstein, Antonio Mar...  United States   \n",
       "5047  Gugu Mbatha-Raw, David Oyelowo, Daniel Brühl, ...  United States   \n",
       "5712                                      Donald Glover  United States   \n",
       "6503  Lizzy Caplan, Jessica Lucas, T.J. Miller, Mich...  United States   \n",
       "\n",
       "     date_added  release_year rating  duration  \\\n",
       "922  2021-05-04          2018  TV-MA   109 min   \n",
       "1509 2020-12-21          2020  TV-MA    98 min   \n",
       "2521 2020-05-15          2019  TV-MA    88 min   \n",
       "2857 2020-03-01          2020   TV-Y  1 Season   \n",
       "4833 2018-06-08          2018  TV-MA   100 min   \n",
       "5047 2018-02-05          2018  PG-13   102 min   \n",
       "5712 2016-11-19          2012  TV-MA    65 min   \n",
       "6503 2020-01-01          2008  PG-13    85 min   \n",
       "\n",
       "                                              listed_in  \\\n",
       "922               Dramas, Independent Movies, Thrillers   \n",
       "1509                    Documentaries, Music & Musicals   \n",
       "2521    Comedies, International Movies, Romantic Movies   \n",
       "2857                                           Kids' TV   \n",
       "4833               Comedies, Dramas, Independent Movies   \n",
       "5047               Action & Adventure, Sci-Fi & Fantasy   \n",
       "5712                                    Stand-Up Comedy   \n",
       "6503  Action & Adventure, Horror Movies, Sci-Fi & Fa...   \n",
       "\n",
       "                                            description  Year_added  \\\n",
       "922   A teenager's picture-perfect family is torn ap...      2021.0   \n",
       "1509  Ariana Grande takes the stage in London for he...      2020.0   \n",
       "2521  After Marcos is dumped by his girlfriend, he a...      2020.0   \n",
       "2857  From throwing parties to planning fashion show...      2020.0   \n",
       "4833  High school senior Alex Truelove's plan to los...      2018.0   \n",
       "5047  Orbiting above a planet on the brink of war, s...      2018.0   \n",
       "5712  Fearlessly funny stand-up comic and sitcom sta...      2016.0   \n",
       "6503  A going-away party in Manhattan is interrupted...      2020.0   \n",
       "\n",
       "      Month_added  duration_int  \n",
       "922           5.0           109  \n",
       "1509         12.0            98  \n",
       "2521          5.0            88  \n",
       "2857          3.0             1  \n",
       "4833          6.0           100  \n",
       "5047          2.0           102  \n",
       "5712         11.0            65  \n",
       "6503          1.0            85  "
      ]
     },
     "execution_count": 24,
     "metadata": {},
     "output_type": "execute_result"
    }
   ],
   "source": [
    "# How Many Titles Have “Love” in the Title\n",
    "df[df['title'].str.contains('love')]"
   ]
  },
  {
   "cell_type": "markdown",
   "id": "72e1d8f4",
   "metadata": {},
   "source": [
    "# Grouping Data"
   ]
  },
  {
   "cell_type": "code",
   "execution_count": 25,
   "id": "9cf1185f",
   "metadata": {},
   "outputs": [
    {
     "name": "stdout",
     "output_type": "stream",
     "text": [
      "type\n",
      "Movie      6131\n",
      "TV Show    2666\n",
      "Name: type, dtype: int64\n"
     ]
    },
    {
     "data": {
      "text/plain": [
       "Index(['show_id', 'type', 'title', 'director', 'cast', 'country', 'date_added',\n",
       "       'release_year', 'rating', 'duration', 'listed_in', 'description',\n",
       "       'Year_added', 'Month_added', 'duration_int'],\n",
       "      dtype='object')"
      ]
     },
     "execution_count": 25,
     "metadata": {},
     "output_type": "execute_result"
    }
   ],
   "source": [
    "# Count of Movies and TV Shows\n",
    "print(df.groupby('type')['type'].count())\n",
    "# Number of Titles Added per Year\n",
    "df.groupby('Year_added')['Year_added'].count()\n",
    "# Top 10 Directors with Most Titles\n",
    "df[df['director'] != 'Unknown'].groupby('director')['title'].count().sort_values(ascending=False)\n",
    "#. Average Movie Duration by Country\n",
    "df[df['type']=='Movie'].groupby('country')['duration_int'].mean().head(10)\n",
    "df.columns"
   ]
  },
  {
   "cell_type": "markdown",
   "id": "3c65c2f6",
   "metadata": {},
   "source": [
    "# Feature Engineering"
   ]
  },
  {
   "cell_type": "code",
   "execution_count": 26,
   "id": "5cd57f64",
   "metadata": {},
   "outputs": [
    {
     "name": "stdout",
     "output_type": "stream",
     "text": [
      "  show_id     type                  title         director  \\\n",
      "0      s1    Movie   Dick Johnson Is Dead  Kirsten Johnson   \n",
      "1      s2  TV Show          Blood & Water          Unknown   \n",
      "2      s3  TV Show              Ganglands  Julien Leclercq   \n",
      "3      s4  TV Show  Jailbirds New Orleans          Unknown   \n",
      "4      s5  TV Show           Kota Factory          Unknown   \n",
      "\n",
      "                                                cast        country  \\\n",
      "0                                            Unknown  United States   \n",
      "1  Ama Qamata, Khosi Ngema, Gail Mabalane, Thaban...   South Africa   \n",
      "2  Sami Bouajila, Tracy Gotoas, Samuel Jouy, Nabi...        Unknown   \n",
      "3                                            Unknown        Unknown   \n",
      "4  Mayur More, Jitendra Kumar, Ranjan Raj, Alam K...          India   \n",
      "\n",
      "  date_added  release_year rating   duration  \\\n",
      "0 2021-09-25          2020  PG-13     90 min   \n",
      "1 2021-09-24          2021  TV-MA  2 Seasons   \n",
      "2 2021-09-24          2021  TV-MA   1 Season   \n",
      "3 2021-09-24          2021  TV-MA   1 Season   \n",
      "4 2021-09-24          2021  TV-MA  2 Seasons   \n",
      "\n",
      "                                           listed_in  \\\n",
      "0                                      Documentaries   \n",
      "1    International TV Shows, TV Dramas, TV Mysteries   \n",
      "2  Crime TV Shows, International TV Shows, TV Act...   \n",
      "3                             Docuseries, Reality TV   \n",
      "4  International TV Shows, Romantic TV Shows, TV ...   \n",
      "\n",
      "                                         description  Year_added  Month_added  \\\n",
      "0  As her father nears the end of his life, filmm...      2021.0          9.0   \n",
      "1  After crossing paths at a party, a Cape Town t...      2021.0          9.0   \n",
      "2  To protect his family from a powerful drug lor...      2021.0          9.0   \n",
      "3  Feuds, flirtations and toilet talk go down amo...      2021.0          9.0   \n",
      "4  In a city of coaching centers known to train I...      2021.0          9.0   \n",
      "\n",
      "   duration_int  content_age  \n",
      "0            90            5  \n",
      "1             2            4  \n",
      "2             1            4  \n",
      "3             1            4  \n",
      "4             2            4  \n"
     ]
    }
   ],
   "source": [
    "df['content_age'] = 2025 - df['release_year']\n",
    "print(df.head())"
   ]
  },
  {
   "cell_type": "markdown",
   "id": "f80cd430",
   "metadata": {},
   "source": [
    "# Correlation Analysis"
   ]
  },
  {
   "cell_type": "code",
   "execution_count": 27,
   "id": "85a0d2ba",
   "metadata": {},
   "outputs": [
    {
     "name": "stdout",
     "output_type": "stream",
     "text": [
      "              release_year  Year_added  Month_added  duration_int  content_age\n",
      "release_year      1.000000    0.110473    -0.039316     -0.249925    -1.000000\n",
      "Year_added        0.110473    1.000000    -0.160555      0.016436    -0.110473\n",
      "Month_added      -0.039316   -0.160555     1.000000     -0.016876     0.039316\n",
      "duration_int     -0.249925    0.016436    -0.016876      1.000000     0.249925\n",
      "content_age      -1.000000   -0.110473     0.039316      0.249925     1.000000\n"
     ]
    }
   ],
   "source": [
    "correlation_matrix = df.corr(numeric_only=True)\n",
    "print(correlation_matrix)"
   ]
  },
  {
   "cell_type": "code",
   "execution_count": 28,
   "id": "19cede8e",
   "metadata": {},
   "outputs": [],
   "source": [
    "# df.to_csv('CleanedNetflixDataset.csv',index=False)\n",
    "df.to_excel('CleanedNetflixDataset.xlsx',index = False)"
   ]
  }
 ],
 "metadata": {
  "kernelspec": {
   "display_name": "env3",
   "language": "python",
   "name": "python3"
  },
  "language_info": {
   "codemirror_mode": {
    "name": "ipython",
    "version": 3
   },
   "file_extension": ".py",
   "mimetype": "text/x-python",
   "name": "python",
   "nbconvert_exporter": "python",
   "pygments_lexer": "ipython3",
   "version": "3.13.5"
  }
 },
 "nbformat": 4,
 "nbformat_minor": 5
}
