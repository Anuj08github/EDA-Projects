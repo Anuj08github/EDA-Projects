{
 "cells": [
  {
   "cell_type": "markdown",
   "id": "e46772af",
   "metadata": {},
   "source": [
    "# Import Libraries"
   ]
  },
  {
   "cell_type": "code",
   "execution_count": 2,
   "id": "0ed32c43",
   "metadata": {},
   "outputs": [],
   "source": [
    "import pandas as pd\n",
    "import numpy as np"
   ]
  },
  {
   "cell_type": "markdown",
   "id": "5bc972fe",
   "metadata": {},
   "source": [
    "# Load dataset"
   ]
  },
  {
   "cell_type": "code",
   "execution_count": 3,
   "id": "03acc631",
   "metadata": {},
   "outputs": [
    {
     "name": "stdout",
     "output_type": "stream",
     "text": [
      "     PassengerId  Survived  Pclass  \\\n",
      "0              1         0       3   \n",
      "1              2         1       1   \n",
      "2              3         1       3   \n",
      "3              4         1       1   \n",
      "4              5         0       3   \n",
      "..           ...       ...     ...   \n",
      "886          887         0       2   \n",
      "887          888         1       1   \n",
      "888          889         0       3   \n",
      "889          890         1       1   \n",
      "890          891         0       3   \n",
      "\n",
      "                                                  Name     Sex   Age  SibSp  \\\n",
      "0                              Braund, Mr. Owen Harris    male  22.0      1   \n",
      "1    Cumings, Mrs. John Bradley (Florence Briggs Th...  female  38.0      1   \n",
      "2                               Heikkinen, Miss. Laina  female  26.0      0   \n",
      "3         Futrelle, Mrs. Jacques Heath (Lily May Peel)  female  35.0      1   \n",
      "4                             Allen, Mr. William Henry    male  35.0      0   \n",
      "..                                                 ...     ...   ...    ...   \n",
      "886                              Montvila, Rev. Juozas    male  27.0      0   \n",
      "887                       Graham, Miss. Margaret Edith  female  19.0      0   \n",
      "888           Johnston, Miss. Catherine Helen \"Carrie\"  female   NaN      1   \n",
      "889                              Behr, Mr. Karl Howell    male  26.0      0   \n",
      "890                                Dooley, Mr. Patrick    male  32.0      0   \n",
      "\n",
      "     Parch            Ticket     Fare Cabin Embarked  \n",
      "0        0         A/5 21171   7.2500   NaN        S  \n",
      "1        0          PC 17599  71.2833   C85        C  \n",
      "2        0  STON/O2. 3101282   7.9250   NaN        S  \n",
      "3        0            113803  53.1000  C123        S  \n",
      "4        0            373450   8.0500   NaN        S  \n",
      "..     ...               ...      ...   ...      ...  \n",
      "886      0            211536  13.0000   NaN        S  \n",
      "887      0            112053  30.0000   B42        S  \n",
      "888      2        W./C. 6607  23.4500   NaN        S  \n",
      "889      0            111369  30.0000  C148        C  \n",
      "890      0            370376   7.7500   NaN        Q  \n",
      "\n",
      "[891 rows x 12 columns]\n"
     ]
    }
   ],
   "source": [
    "df = pd.read_csv(\"Titanic-Dataset.csv\")\n",
    "print(df)"
   ]
  },
  {
   "cell_type": "markdown",
   "id": "1ac8aa1e",
   "metadata": {},
   "source": [
    "# Basic Structure of Dataset"
   ]
  },
  {
   "cell_type": "code",
   "execution_count": 4,
   "id": "bcc7c68e",
   "metadata": {},
   "outputs": [
    {
     "name": "stdout",
     "output_type": "stream",
     "text": [
      "Shape of dataset is (891, 12)\n",
      "column names:\n",
      " Index(['PassengerId', 'Survived', 'Pclass', 'Name', 'Sex', 'Age', 'SibSp',\n",
      "       'Parch', 'Ticket', 'Fare', 'Cabin', 'Embarked'],\n",
      "      dtype='object')\n",
      "Datatypes of dataset:\n",
      " PassengerId      int64\n",
      "Survived         int64\n",
      "Pclass           int64\n",
      "Name            object\n",
      "Sex             object\n",
      "Age            float64\n",
      "SibSp            int64\n",
      "Parch            int64\n",
      "Ticket          object\n",
      "Fare           float64\n",
      "Cabin           object\n",
      "Embarked        object\n",
      "dtype: object\n"
     ]
    }
   ],
   "source": [
    "print(\"Shape of dataset is\",df.shape)\n",
    "print(\"column names:\\n\",df.columns)\n",
    "print(\"Datatypes of dataset:\\n\",df.dtypes)"
   ]
  },
  {
   "cell_type": "code",
   "execution_count": 5,
   "id": "0f3c949b",
   "metadata": {},
   "outputs": [
    {
     "name": "stdout",
     "output_type": "stream",
     "text": [
      "Displaying starting 10 rows:\n",
      "   PassengerId  Survived  Pclass  \\\n",
      "0            1         0       3   \n",
      "1            2         1       1   \n",
      "2            3         1       3   \n",
      "3            4         1       1   \n",
      "4            5         0       3   \n",
      "\n",
      "                                                Name     Sex   Age  SibSp  \\\n",
      "0                            Braund, Mr. Owen Harris    male  22.0      1   \n",
      "1  Cumings, Mrs. John Bradley (Florence Briggs Th...  female  38.0      1   \n",
      "2                             Heikkinen, Miss. Laina  female  26.0      0   \n",
      "3       Futrelle, Mrs. Jacques Heath (Lily May Peel)  female  35.0      1   \n",
      "4                           Allen, Mr. William Henry    male  35.0      0   \n",
      "\n",
      "   Parch            Ticket     Fare Cabin Embarked  \n",
      "0      0         A/5 21171   7.2500   NaN        S  \n",
      "1      0          PC 17599  71.2833   C85        C  \n",
      "2      0  STON/O2. 3101282   7.9250   NaN        S  \n",
      "3      0            113803  53.1000  C123        S  \n",
      "4      0            373450   8.0500   NaN        S  \n",
      "\n",
      "\n",
      "Displaying ending 10 rows:\n",
      "     PassengerId  Survived  Pclass                                      Name  \\\n",
      "886          887         0       2                     Montvila, Rev. Juozas   \n",
      "887          888         1       1              Graham, Miss. Margaret Edith   \n",
      "888          889         0       3  Johnston, Miss. Catherine Helen \"Carrie\"   \n",
      "889          890         1       1                     Behr, Mr. Karl Howell   \n",
      "890          891         0       3                       Dooley, Mr. Patrick   \n",
      "\n",
      "        Sex   Age  SibSp  Parch      Ticket   Fare Cabin Embarked  \n",
      "886    male  27.0      0      0      211536  13.00   NaN        S  \n",
      "887  female  19.0      0      0      112053  30.00   B42        S  \n",
      "888  female   NaN      1      2  W./C. 6607  23.45   NaN        S  \n",
      "889    male  26.0      0      0      111369  30.00  C148        C  \n",
      "890    male  32.0      0      0      370376   7.75   NaN        Q  \n"
     ]
    }
   ],
   "source": [
    "print(f\"Displaying starting 10 rows:\\n{df.head()}\\n\\n\")\n",
    "print(f\"Displaying ending 10 rows:\\n{df.tail()}\")"
   ]
  },
  {
   "cell_type": "markdown",
   "id": "2dad142c",
   "metadata": {},
   "source": [
    "# Undersatnding summary stats"
   ]
  },
  {
   "cell_type": "code",
   "execution_count": 6,
   "id": "815eb6a9",
   "metadata": {},
   "outputs": [
    {
     "name": "stdout",
     "output_type": "stream",
     "text": [
      "Descriptive view of the data:\n",
      "       PassengerId    Survived      Pclass         Age       SibSp  \\\n",
      "count   891.000000  891.000000  891.000000  714.000000  891.000000   \n",
      "mean    446.000000    0.383838    2.308642   29.699118    0.523008   \n",
      "std     257.353842    0.486592    0.836071   14.526497    1.102743   \n",
      "min       1.000000    0.000000    1.000000    0.420000    0.000000   \n",
      "25%     223.500000    0.000000    2.000000   20.125000    0.000000   \n",
      "50%     446.000000    0.000000    3.000000   28.000000    0.000000   \n",
      "75%     668.500000    1.000000    3.000000   38.000000    1.000000   \n",
      "max     891.000000    1.000000    3.000000   80.000000    8.000000   \n",
      "\n",
      "            Parch        Fare  \n",
      "count  891.000000  891.000000  \n",
      "mean     0.381594   32.204208  \n",
      "std      0.806057   49.693429  \n",
      "min      0.000000    0.000000  \n",
      "25%      0.000000    7.910400  \n",
      "50%      0.000000   14.454200  \n",
      "75%      0.000000   31.000000  \n",
      "max      6.000000  512.329200  \n"
     ]
    }
   ],
   "source": [
    "print(f\"Descriptive view of the data:\\n{df.describe()}\")"
   ]
  },
  {
   "cell_type": "code",
   "execution_count": 7,
   "id": "0cccb3e3",
   "metadata": {},
   "outputs": [
    {
     "name": "stdout",
     "output_type": "stream",
     "text": [
      "Displaying information of the dataset:\n",
      "\n",
      "<class 'pandas.core.frame.DataFrame'>\n",
      "RangeIndex: 891 entries, 0 to 890\n",
      "Data columns (total 12 columns):\n",
      " #   Column       Non-Null Count  Dtype  \n",
      "---  ------       --------------  -----  \n",
      " 0   PassengerId  891 non-null    int64  \n",
      " 1   Survived     891 non-null    int64  \n",
      " 2   Pclass       891 non-null    int64  \n",
      " 3   Name         891 non-null    object \n",
      " 4   Sex          891 non-null    object \n",
      " 5   Age          714 non-null    float64\n",
      " 6   SibSp        891 non-null    int64  \n",
      " 7   Parch        891 non-null    int64  \n",
      " 8   Ticket       891 non-null    object \n",
      " 9   Fare         891 non-null    float64\n",
      " 10  Cabin        204 non-null    object \n",
      " 11  Embarked     889 non-null    object \n",
      "dtypes: float64(2), int64(5), object(5)\n",
      "memory usage: 83.7+ KB\n"
     ]
    }
   ],
   "source": [
    "print(f\"Displaying information of the dataset:\\n\")\n",
    "df.info()"
   ]
  },
  {
   "cell_type": "code",
   "execution_count": 8,
   "id": "3d33b757",
   "metadata": {},
   "outputs": [
    {
     "name": "stdout",
     "output_type": "stream",
     "text": [
      "unique values in data set are:\n",
      " PassengerId    891\n",
      "Survived         2\n",
      "Pclass           3\n",
      "Name           891\n",
      "Sex              2\n",
      "Age             88\n",
      "SibSp            7\n",
      "Parch            7\n",
      "Ticket         681\n",
      "Fare           248\n",
      "Cabin          147\n",
      "Embarked         3\n",
      "dtype: int64 \n",
      "\n",
      "Survived\n",
      "0    549\n",
      "1    342\n",
      "Name: count, dtype: int64\n",
      "Sex\n",
      "male      577\n",
      "female    314\n",
      "Name: count, dtype: int64\n",
      "Pclass\n",
      "3    491\n",
      "1    216\n",
      "2    184\n",
      "Name: count, dtype: int64\n",
      "Embarked\n",
      "S    644\n",
      "C    168\n",
      "Q     77\n",
      "Name: count, dtype: int64\n"
     ]
    }
   ],
   "source": [
    "print(\"unique values in data set are:\\n\",df.nunique(),\"\\n\") \n",
    "print(df['Survived'].value_counts())\n",
    "print(df['Sex'].value_counts())\n",
    "print(df['Pclass'].value_counts())\n",
    "print(df['Embarked'].value_counts())\n"
   ]
  },
  {
   "cell_type": "markdown",
   "id": "213f49d6",
   "metadata": {},
   "source": [
    "# Check for missing values"
   ]
  },
  {
   "cell_type": "code",
   "execution_count": 9,
   "id": "d406b5cd",
   "metadata": {},
   "outputs": [
    {
     "name": "stdout",
     "output_type": "stream",
     "text": [
      "Counting of each missing values:\n",
      " PassengerId      0\n",
      "Survived         0\n",
      "Pclass           0\n",
      "Name             0\n",
      "Sex              0\n",
      "Age            177\n",
      "SibSp            0\n",
      "Parch            0\n",
      "Ticket           0\n",
      "Fare             0\n",
      "Cabin          687\n",
      "Embarked         2\n",
      "dtype: int64 \n",
      "\n",
      "mean of missing values:\n",
      " PassengerId    0.000000\n",
      "Survived       0.000000\n",
      "Pclass         0.000000\n",
      "Name           0.000000\n",
      "Sex            0.000000\n",
      "Age            0.198653\n",
      "SibSp          0.000000\n",
      "Parch          0.000000\n",
      "Ticket         0.000000\n",
      "Fare           0.000000\n",
      "Cabin          0.771044\n",
      "Embarked       0.002245\n",
      "dtype: float64\n"
     ]
    }
   ],
   "source": [
    "print(\"Counting of each missing values:\\n\",df.isna().sum(),\"\\n\")\n",
    "print(\"mean of missing values:\\n\",df.isna().mean())"
   ]
  },
  {
   "cell_type": "markdown",
   "id": "6fe60140",
   "metadata": {},
   "source": [
    "# Handling Missing Data"
   ]
  },
  {
   "cell_type": "code",
   "execution_count": 10,
   "id": "5986d29c",
   "metadata": {},
   "outputs": [
    {
     "name": "stdout",
     "output_type": "stream",
     "text": [
      "PassengerId      0\n",
      "Survived         0\n",
      "Pclass           0\n",
      "Name             0\n",
      "Sex              0\n",
      "Age            177\n",
      "SibSp            0\n",
      "Parch            0\n",
      "Ticket           0\n",
      "Fare             0\n",
      "Cabin          687\n",
      "Embarked         2\n",
      "deck             0\n",
      "dtype: int64\n"
     ]
    }
   ],
   "source": [
    "#creating column deck using intial letter of cabin and filling missing with 'U' which stands for unknown\n",
    "df['deck'] = df['Cabin'].str[0]\n",
    "df['deck'] = df['deck'].fillna('U')\n",
    "print(df.isna().sum())"
   ]
  },
  {
   "cell_type": "code",
   "execution_count": 11,
   "id": "f4ac5823",
   "metadata": {},
   "outputs": [
    {
     "name": "stdout",
     "output_type": "stream",
     "text": [
      "     PassengerId  Survived  Pclass                                      Name  \\\n",
      "886          887         0       2                     Montvila, Rev. Juozas   \n",
      "887          888         1       1              Graham, Miss. Margaret Edith   \n",
      "888          889         0       3  Johnston, Miss. Catherine Helen \"Carrie\"   \n",
      "889          890         1       1                     Behr, Mr. Karl Howell   \n",
      "890          891         0       3                       Dooley, Mr. Patrick   \n",
      "\n",
      "        Sex   Age  SibSp  Parch      Ticket   Fare Cabin Embarked deck  \n",
      "886    male  27.0      0      0      211536  13.00   NaN        S    U  \n",
      "887  female  19.0      0      0      112053  30.00   B42        S    B  \n",
      "888  female  28.0      1      2  W./C. 6607  23.45   NaN        S    U  \n",
      "889    male  26.0      0      0      111369  30.00  C148        C    C  \n",
      "890    male  32.0      0      0      370376   7.75   NaN        Q    U  \n",
      "PassengerId      0\n",
      "Survived         0\n",
      "Pclass           0\n",
      "Name             0\n",
      "Sex              0\n",
      "Age              0\n",
      "SibSp            0\n",
      "Parch            0\n",
      "Ticket           0\n",
      "Fare             0\n",
      "Cabin          687\n",
      "Embarked         2\n",
      "deck             0\n",
      "dtype: int64\n"
     ]
    }
   ],
   "source": [
    "# filling missing Age with median age\n",
    "df['Age']  = df['Age'].fillna(df['Age'].median())\n",
    "print(df.tail())\n",
    "print(df.isna().sum())"
   ]
  },
  {
   "cell_type": "code",
   "execution_count": 12,
   "id": "9e4f0e21",
   "metadata": {},
   "outputs": [
    {
     "name": "stdout",
     "output_type": "stream",
     "text": [
      "Embarked\n",
      "S    644\n",
      "C    168\n",
      "Q     77\n",
      "Name: count, dtype: int64\n",
      "PassengerId      0\n",
      "Survived         0\n",
      "Pclass           0\n",
      "Name             0\n",
      "Sex              0\n",
      "Age              0\n",
      "SibSp            0\n",
      "Parch            0\n",
      "Ticket           0\n",
      "Fare             0\n",
      "Cabin          687\n",
      "Embarked         0\n",
      "deck             0\n",
      "dtype: int64\n"
     ]
    }
   ],
   "source": [
    "print(df['Embarked'].value_counts())\n",
    "#filling missing values with \"S\"\n",
    "df['Embarked'] = df['Embarked'].fillna('S')\n",
    "print(df.isna().sum())"
   ]
  },
  {
   "cell_type": "markdown",
   "id": "abdda1fa",
   "metadata": {},
   "source": [
    "# Data Type Conversion"
   ]
  },
  {
   "cell_type": "code",
   "execution_count": 13,
   "id": "4606937d",
   "metadata": {},
   "outputs": [],
   "source": [
    "\n",
    "df['Sex'] = df['Sex'].astype('category')\n",
    "df['Embarked'] = df['Embarked'].astype('category')\n",
    "df['Name'] = df['Name'].astype('string')\n"
   ]
  },
  {
   "cell_type": "markdown",
   "id": "fcfd6610",
   "metadata": {},
   "source": [
    "# Checking duplicates "
   ]
  },
  {
   "cell_type": "code",
   "execution_count": 14,
   "id": "6a19cc57",
   "metadata": {},
   "outputs": [
    {
     "data": {
      "text/plain": [
       "np.int64(0)"
      ]
     },
     "execution_count": 14,
     "metadata": {},
     "output_type": "execute_result"
    }
   ],
   "source": [
    "df.duplicated().sum()"
   ]
  },
  {
   "cell_type": "markdown",
   "id": "b8c37ef1",
   "metadata": {},
   "source": [
    "# Filtering and subsetting"
   ]
  },
  {
   "cell_type": "code",
   "execution_count": 15,
   "id": "cb746db5",
   "metadata": {},
   "outputs": [
    {
     "name": "stdout",
     "output_type": "stream",
     "text": [
      "     PassengerId  Survived  Pclass                                       Name  \\\n",
      "33            34         0       2                      Wheadon, Mr. Edward H   \n",
      "54            55         0       1             Ostby, Mr. Engelhart Cornelius   \n",
      "96            97         0       1                  Goldschmidt, Mr. George B   \n",
      "116          117         0       3                       Connors, Mr. Patrick   \n",
      "170          171         0       1                  Van der hoef, Mr. Wyckoff   \n",
      "252          253         0       1                  Stead, Mr. William Thomas   \n",
      "275          276         1       1          Andrews, Miss. Kornelia Theodosia   \n",
      "280          281         0       3                           Duane, Mr. Frank   \n",
      "326          327         0       3                  Nysveen, Mr. Johan Hansen   \n",
      "438          439         0       1                          Fortune, Mr. Mark   \n",
      "456          457         0       1                  Millet, Mr. Francis Davis   \n",
      "483          484         1       3                     Turkula, Mrs. (Hedwig)   \n",
      "493          494         0       1                    Artagaveytia, Mr. Ramon   \n",
      "545          546         0       1               Nicholson, Mr. Arthur Ernest   \n",
      "555          556         0       1                         Wright, Mr. George   \n",
      "570          571         1       2                         Harris, Mr. George   \n",
      "625          626         0       1                      Sutton, Mr. Frederick   \n",
      "630          631         1       1       Barkworth, Mr. Algernon Henry Wilson   \n",
      "672          673         0       2                Mitchell, Mr. Henry Michael   \n",
      "745          746         0       1               Crosby, Capt. Edward Gifford   \n",
      "829          830         1       1  Stone, Mrs. George Nelson (Martha Evelyn)   \n",
      "851          852         0       3                        Svensson, Mr. Johan   \n",
      "\n",
      "        Sex   Age  SibSp  Parch       Ticket      Fare        Cabin Embarked  \\\n",
      "33     male  66.0      0      0   C.A. 24579   10.5000          NaN        S   \n",
      "54     male  65.0      0      1       113509   61.9792          B30        C   \n",
      "96     male  71.0      0      0     PC 17754   34.6542           A5        C   \n",
      "116    male  70.5      0      0       370369    7.7500          NaN        Q   \n",
      "170    male  61.0      0      0       111240   33.5000          B19        S   \n",
      "252    male  62.0      0      0       113514   26.5500          C87        S   \n",
      "275  female  63.0      1      0        13502   77.9583           D7        S   \n",
      "280    male  65.0      0      0       336439    7.7500          NaN        Q   \n",
      "326    male  61.0      0      0       345364    6.2375          NaN        S   \n",
      "438    male  64.0      1      4        19950  263.0000  C23 C25 C27        S   \n",
      "456    male  65.0      0      0        13509   26.5500          E38        S   \n",
      "483  female  63.0      0      0         4134    9.5875          NaN        S   \n",
      "493    male  71.0      0      0     PC 17609   49.5042          NaN        C   \n",
      "545    male  64.0      0      0          693   26.0000          NaN        S   \n",
      "555    male  62.0      0      0       113807   26.5500          NaN        S   \n",
      "570    male  62.0      0      0  S.W./PP 752   10.5000          NaN        S   \n",
      "625    male  61.0      0      0        36963   32.3208          D50        S   \n",
      "630    male  80.0      0      0        27042   30.0000          A23        S   \n",
      "672    male  70.0      0      0   C.A. 24580   10.5000          NaN        S   \n",
      "745    male  70.0      1      1    WE/P 5735   71.0000          B22        S   \n",
      "829  female  62.0      0      0       113572   80.0000          B28        S   \n",
      "851    male  74.0      0      0       347060    7.7750          NaN        S   \n",
      "\n",
      "    deck  \n",
      "33     U  \n",
      "54     B  \n",
      "96     A  \n",
      "116    U  \n",
      "170    B  \n",
      "252    C  \n",
      "275    D  \n",
      "280    U  \n",
      "326    U  \n",
      "438    C  \n",
      "456    E  \n",
      "483    U  \n",
      "493    U  \n",
      "545    U  \n",
      "555    U  \n",
      "570    U  \n",
      "625    D  \n",
      "630    A  \n",
      "672    U  \n",
      "745    B  \n",
      "829    B  \n",
      "851    U  \n"
     ]
    }
   ],
   "source": [
    "#Query1:Passengers aged above 60\n",
    "print(df[df['Age']>60])\n"
   ]
  },
  {
   "cell_type": "code",
   "execution_count": 16,
   "id": "8ac43383",
   "metadata": {},
   "outputs": [
    {
     "name": "stdout",
     "output_type": "stream",
     "text": [
      "     PassengerId  Survived  Pclass  \\\n",
      "1              2         1       1   \n",
      "2              3         1       3   \n",
      "3              4         1       1   \n",
      "8              9         1       3   \n",
      "9             10         1       2   \n",
      "..           ...       ...     ...   \n",
      "874          875         1       2   \n",
      "875          876         1       3   \n",
      "879          880         1       1   \n",
      "880          881         1       2   \n",
      "887          888         1       1   \n",
      "\n",
      "                                                  Name     Sex   Age  SibSp  \\\n",
      "1    Cumings, Mrs. John Bradley (Florence Briggs Th...  female  38.0      1   \n",
      "2                               Heikkinen, Miss. Laina  female  26.0      0   \n",
      "3         Futrelle, Mrs. Jacques Heath (Lily May Peel)  female  35.0      1   \n",
      "8    Johnson, Mrs. Oscar W (Elisabeth Vilhelmina Berg)  female  27.0      0   \n",
      "9                  Nasser, Mrs. Nicholas (Adele Achem)  female  14.0      1   \n",
      "..                                                 ...     ...   ...    ...   \n",
      "874              Abelson, Mrs. Samuel (Hannah Wizosky)  female  28.0      1   \n",
      "875                   Najib, Miss. Adele Kiamie \"Jane\"  female  15.0      0   \n",
      "879      Potter, Mrs. Thomas Jr (Lily Alexenia Wilson)  female  56.0      0   \n",
      "880       Shelley, Mrs. William (Imanita Parrish Hall)  female  25.0      0   \n",
      "887                       Graham, Miss. Margaret Edith  female  19.0      0   \n",
      "\n",
      "     Parch            Ticket     Fare Cabin Embarked deck  \n",
      "1        0          PC 17599  71.2833   C85        C    C  \n",
      "2        0  STON/O2. 3101282   7.9250   NaN        S    U  \n",
      "3        0            113803  53.1000  C123        S    C  \n",
      "8        2            347742  11.1333   NaN        S    U  \n",
      "9        0            237736  30.0708   NaN        C    U  \n",
      "..     ...               ...      ...   ...      ...  ...  \n",
      "874      0         P/PP 3381  24.0000   NaN        C    U  \n",
      "875      0              2667   7.2250   NaN        C    U  \n",
      "879      1             11767  83.1583   C50        C    C  \n",
      "880      1            230433  26.0000   NaN        S    U  \n",
      "887      0            112053  30.0000   B42        S    B  \n",
      "\n",
      "[233 rows x 13 columns]\n"
     ]
    }
   ],
   "source": [
    "#Query2: Females who survived\n",
    "print(df[(df['Sex']=='female') & (df['Survived'] == 1)])"
   ]
  },
  {
   "cell_type": "code",
   "execution_count": 17,
   "id": "f0f61ef7",
   "metadata": {},
   "outputs": [
    {
     "name": "stdout",
     "output_type": "stream",
     "text": [
      "     PassengerId  Survived  Pclass                                      Name  \\\n",
      "0              1         0       3                   Braund, Mr. Owen Harris   \n",
      "4              5         0       3                  Allen, Mr. William Henry   \n",
      "5              6         0       3                          Moran, Mr. James   \n",
      "7              8         0       3            Palsson, Master. Gosta Leonard   \n",
      "12            13         0       3            Saundercock, Mr. William Henry   \n",
      "..           ...       ...     ...                                       ...   \n",
      "882          883         0       3              Dahlberg, Miss. Gerda Ulrika   \n",
      "884          885         0       3                    Sutehall, Mr. Henry Jr   \n",
      "885          886         0       3      Rice, Mrs. William (Margaret Norton)   \n",
      "888          889         0       3  Johnston, Miss. Catherine Helen \"Carrie\"   \n",
      "890          891         0       3                       Dooley, Mr. Patrick   \n",
      "\n",
      "        Sex   Age  SibSp  Parch           Ticket     Fare Cabin Embarked deck  \n",
      "0      male  22.0      1      0        A/5 21171   7.2500   NaN        S    U  \n",
      "4      male  35.0      0      0           373450   8.0500   NaN        S    U  \n",
      "5      male  28.0      0      0           330877   8.4583   NaN        Q    U  \n",
      "7      male   2.0      3      1           349909  21.0750   NaN        S    U  \n",
      "12     male  20.0      0      0        A/5. 2151   8.0500   NaN        S    U  \n",
      "..      ...   ...    ...    ...              ...      ...   ...      ...  ...  \n",
      "882  female  22.0      0      0             7552  10.5167   NaN        S    U  \n",
      "884    male  25.0      0      0  SOTON/OQ 392076   7.0500   NaN        S    U  \n",
      "885  female  39.0      0      5           382652  29.1250   NaN        Q    U  \n",
      "888  female  28.0      1      2       W./C. 6607  23.4500   NaN        S    U  \n",
      "890    male  32.0      0      0           370376   7.7500   NaN        Q    U  \n",
      "\n",
      "[372 rows x 13 columns]\n"
     ]
    }
   ],
   "source": [
    "#Query3: Passengers from 3rd class who didn’t survive\n",
    "print(df[(df['Pclass']==3) & (df['Survived']==0)])"
   ]
  },
  {
   "cell_type": "code",
   "execution_count": 18,
   "id": "b2ed0d5e",
   "metadata": {},
   "outputs": [
    {
     "name": "stdout",
     "output_type": "stream",
     "text": [
      "     PassengerId  Survived  Pclass  \\\n",
      "27            28         0       1   \n",
      "31            32         1       1   \n",
      "88            89         1       1   \n",
      "118          119         0       1   \n",
      "195          196         1       1   \n",
      "215          216         1       1   \n",
      "258          259         1       1   \n",
      "268          269         1       1   \n",
      "269          270         1       1   \n",
      "297          298         0       1   \n",
      "299          300         1       1   \n",
      "305          306         1       1   \n",
      "306          307         1       1   \n",
      "307          308         1       1   \n",
      "311          312         1       1   \n",
      "318          319         1       1   \n",
      "319          320         1       1   \n",
      "325          326         1       1   \n",
      "332          333         0       1   \n",
      "334          335         1       1   \n",
      "337          338         1       1   \n",
      "341          342         1       1   \n",
      "373          374         0       1   \n",
      "377          378         0       1   \n",
      "380          381         1       1   \n",
      "390          391         1       1   \n",
      "393          394         1       1   \n",
      "435          436         1       1   \n",
      "438          439         0       1   \n",
      "498          499         0       1   \n",
      "505          506         0       1   \n",
      "527          528         0       1   \n",
      "537          538         1       1   \n",
      "544          545         0       1   \n",
      "550          551         1       1   \n",
      "557          558         0       1   \n",
      "581          582         1       1   \n",
      "609          610         1       1   \n",
      "659          660         0       1   \n",
      "660          661         1       1   \n",
      "679          680         1       1   \n",
      "689          690         1       1   \n",
      "698          699         0       1   \n",
      "700          701         1       1   \n",
      "708          709         1       1   \n",
      "716          717         1       1   \n",
      "730          731         1       1   \n",
      "737          738         1       1   \n",
      "742          743         1       1   \n",
      "763          764         1       1   \n",
      "779          780         1       1   \n",
      "802          803         1       1   \n",
      "856          857         1       1   \n",
      "\n",
      "                                                  Name     Sex    Age  SibSp  \\\n",
      "27                      Fortune, Mr. Charles Alexander    male  19.00      3   \n",
      "31      Spencer, Mrs. William Augustus (Marie Eugenie)  female  28.00      1   \n",
      "88                          Fortune, Miss. Mabel Helen  female  23.00      3   \n",
      "118                           Baxter, Mr. Quigg Edmond    male  24.00      0   \n",
      "195                               Lurette, Miss. Elise  female  58.00      0   \n",
      "215                            Newell, Miss. Madeleine  female  31.00      1   \n",
      "258                                   Ward, Miss. Anna  female  35.00      0   \n",
      "268      Graham, Mrs. William Thompson (Edith Junkins)  female  58.00      0   \n",
      "269                             Bissette, Miss. Amelia  female  35.00      0   \n",
      "297                       Allison, Miss. Helen Loraine  female   2.00      1   \n",
      "299    Baxter, Mrs. James (Helene DeLaudeniere Chaput)  female  50.00      0   \n",
      "305                     Allison, Master. Hudson Trevor    male   0.92      1   \n",
      "306                            Fleming, Miss. Margaret  female  28.00      0   \n",
      "307  Penasco y Castellana, Mrs. Victor de Satode (M...  female  17.00      1   \n",
      "311                         Ryerson, Miss. Emily Borie  female  18.00      2   \n",
      "318                           Wick, Miss. Mary Natalie  female  31.00      0   \n",
      "319  Spedden, Mrs. Frederic Oakley (Margaretta Corn...  female  40.00      1   \n",
      "325                           Young, Miss. Marie Grice  female  36.00      0   \n",
      "332                          Graham, Mr. George Edward    male  38.00      0   \n",
      "334  Frauenthal, Mrs. Henry William (Clara Heinshei...  female  28.00      1   \n",
      "337                    Burns, Miss. Elizabeth Margaret  female  41.00      0   \n",
      "341                     Fortune, Miss. Alice Elizabeth  female  24.00      3   \n",
      "373                                Ringhini, Mr. Sante    male  22.00      0   \n",
      "377                          Widener, Mr. Harry Elkins    male  27.00      0   \n",
      "380                              Bidois, Miss. Rosalie  female  42.00      0   \n",
      "390                         Carter, Mr. William Ernest    male  36.00      1   \n",
      "393                             Newell, Miss. Marjorie  female  23.00      1   \n",
      "435                          Carter, Miss. Lucile Polk  female  14.00      1   \n",
      "438                                  Fortune, Mr. Mark    male  64.00      1   \n",
      "498    Allison, Mrs. Hudson J C (Bessie Waldo Daniels)  female  25.00      1   \n",
      "505         Penasco y Castellana, Mr. Victor de Satode    male  18.00      1   \n",
      "527                                 Farthing, Mr. John    male  28.00      0   \n",
      "537                                LeRoy, Miss. Bertha  female  30.00      0   \n",
      "544                         Douglas, Mr. Walter Donald    male  50.00      1   \n",
      "550                        Thayer, Mr. John Borland Jr    male  17.00      0   \n",
      "557                                Robbins, Mr. Victor    male  28.00      0   \n",
      "581  Thayer, Mrs. John Borland (Marian Longstreth M...  female  39.00      1   \n",
      "609                          Shutes, Miss. Elizabeth W  female  40.00      0   \n",
      "659                         Newell, Mr. Arthur Webster    male  58.00      0   \n",
      "660                      Frauenthal, Dr. Henry William    male  50.00      2   \n",
      "679                 Cardeza, Mr. Thomas Drake Martinez    male  36.00      0   \n",
      "689                  Madill, Miss. Georgette Alexandra  female  15.00      0   \n",
      "698                           Thayer, Mr. John Borland    male  49.00      1   \n",
      "700  Astor, Mrs. John Jacob (Madeleine Talmadge Force)  female  18.00      1   \n",
      "708                               Cleaver, Miss. Alice  female  22.00      0   \n",
      "716                      Endres, Miss. Caroline Louise  female  38.00      0   \n",
      "730                      Allen, Miss. Elisabeth Walton  female  29.00      0   \n",
      "737                             Lesurer, Mr. Gustave J    male  35.00      0   \n",
      "742              Ryerson, Miss. Susan Parker \"Suzette\"  female  21.00      2   \n",
      "763          Carter, Mrs. William Ernest (Lucile Polk)  female  36.00      1   \n",
      "779  Robert, Mrs. Edward Scott (Elisabeth Walton Mc...  female  43.00      0   \n",
      "802                Carter, Master. William Thornton II    male  11.00      1   \n",
      "856         Wick, Mrs. George Dennick (Mary Hitchcock)  female  45.00      1   \n",
      "\n",
      "     Parch    Ticket      Fare            Cabin Embarked deck  \n",
      "27       2     19950  263.0000      C23 C25 C27        S    C  \n",
      "31       0  PC 17569  146.5208              B78        C    B  \n",
      "88       2     19950  263.0000      C23 C25 C27        S    C  \n",
      "118      1  PC 17558  247.5208          B58 B60        C    B  \n",
      "195      0  PC 17569  146.5208              B80        C    B  \n",
      "215      0     35273  113.2750              D36        C    D  \n",
      "258      0  PC 17755  512.3292              NaN        C    U  \n",
      "268      1  PC 17582  153.4625             C125        S    C  \n",
      "269      0  PC 17760  135.6333              C99        S    C  \n",
      "297      2    113781  151.5500          C22 C26        S    C  \n",
      "299      1  PC 17558  247.5208          B58 B60        C    B  \n",
      "305      2    113781  151.5500          C22 C26        S    C  \n",
      "306      0     17421  110.8833              NaN        C    U  \n",
      "307      0  PC 17758  108.9000              C65        C    C  \n",
      "311      2  PC 17608  262.3750  B57 B59 B63 B66        C    B  \n",
      "318      2     36928  164.8667               C7        S    C  \n",
      "319      1     16966  134.5000              E34        C    E  \n",
      "325      0  PC 17760  135.6333              C32        C    C  \n",
      "332      1  PC 17582  153.4625              C91        S    C  \n",
      "334      0  PC 17611  133.6500              NaN        S    U  \n",
      "337      0     16966  134.5000              E40        C    E  \n",
      "341      2     19950  263.0000      C23 C25 C27        S    C  \n",
      "373      0  PC 17760  135.6333              NaN        C    U  \n",
      "377      2    113503  211.5000              C82        C    C  \n",
      "380      0  PC 17757  227.5250              NaN        C    U  \n",
      "390      2    113760  120.0000          B96 B98        S    B  \n",
      "393      0     35273  113.2750              D36        C    D  \n",
      "435      2    113760  120.0000          B96 B98        S    B  \n",
      "438      4     19950  263.0000      C23 C25 C27        S    C  \n",
      "498      2    113781  151.5500          C22 C26        S    C  \n",
      "505      0  PC 17758  108.9000              C65        C    C  \n",
      "527      0  PC 17483  221.7792              C95        S    C  \n",
      "537      0  PC 17761  106.4250              NaN        C    U  \n",
      "544      0  PC 17761  106.4250              C86        C    C  \n",
      "550      2     17421  110.8833              C70        C    C  \n",
      "557      0  PC 17757  227.5250              NaN        C    U  \n",
      "581      1     17421  110.8833              C68        C    C  \n",
      "609      0  PC 17582  153.4625             C125        S    C  \n",
      "659      2     35273  113.2750              D48        C    D  \n",
      "660      0  PC 17611  133.6500              NaN        S    U  \n",
      "679      1  PC 17755  512.3292      B51 B53 B55        C    B  \n",
      "689      1     24160  211.3375               B5        S    B  \n",
      "698      1     17421  110.8833              C68        C    C  \n",
      "700      0  PC 17757  227.5250          C62 C64        C    C  \n",
      "708      0    113781  151.5500              NaN        S    U  \n",
      "716      0  PC 17757  227.5250              C45        C    C  \n",
      "730      0     24160  211.3375               B5        S    B  \n",
      "737      0  PC 17755  512.3292             B101        C    B  \n",
      "742      2  PC 17608  262.3750  B57 B59 B63 B66        C    B  \n",
      "763      2    113760  120.0000          B96 B98        S    B  \n",
      "779      1     24160  211.3375               B3        S    B  \n",
      "802      2    113760  120.0000          B96 B98        S    B  \n",
      "856      1     36928  164.8667              NaN        S    U  "
     ]
    },
    {
     "name": "stdout",
     "output_type": "stream",
     "text": [
      "\n"
     ]
    }
   ],
   "source": [
    "#Query4:Passengers who paid fare > 100\n",
    "print(df[df['Fare']>100])"
   ]
  },
  {
   "cell_type": "code",
   "execution_count": 19,
   "id": "a08a7384",
   "metadata": {},
   "outputs": [
    {
     "name": "stdout",
     "output_type": "stream",
     "text": [
      "     PassengerId  Survived  Pclass  \\\n",
      "10            11         1       3   \n",
      "43            44         1       2   \n",
      "58            59         1       2   \n",
      "78            79         1       2   \n",
      "165          166         1       3   \n",
      "172          173         1       3   \n",
      "183          184         1       2   \n",
      "184          185         1       3   \n",
      "193          194         1       2   \n",
      "233          234         1       3   \n",
      "237          238         1       2   \n",
      "261          262         1       3   \n",
      "305          306         1       1   \n",
      "340          341         1       2   \n",
      "348          349         1       3   \n",
      "381          382         1       3   \n",
      "407          408         1       2   \n",
      "445          446         1       1   \n",
      "448          449         1       3   \n",
      "469          470         1       3   \n",
      "479          480         1       3   \n",
      "489          490         1       3   \n",
      "530          531         1       2   \n",
      "535          536         1       2   \n",
      "549          550         1       2   \n",
      "618          619         1       2   \n",
      "644          645         1       3   \n",
      "691          692         1       3   \n",
      "720          721         1       2   \n",
      "750          751         1       2   \n",
      "751          752         1       3   \n",
      "755          756         1       2   \n",
      "777          778         1       3   \n",
      "788          789         1       3   \n",
      "802          803         1       1   \n",
      "803          804         1       3   \n",
      "827          828         1       2   \n",
      "831          832         1       2   \n",
      "869          870         1       3   \n",
      "\n",
      "                                                Name     Sex    Age  SibSp  \\\n",
      "10                   Sandstrom, Miss. Marguerite Rut  female   4.00      1   \n",
      "43          Laroche, Miss. Simonne Marie Anne Andree  female   3.00      1   \n",
      "58                      West, Miss. Constance Mirium  female   5.00      1   \n",
      "78                     Caldwell, Master. Alden Gates    male   0.83      0   \n",
      "165  Goldsmith, Master. Frank John William \"Frankie\"    male   9.00      0   \n",
      "172                     Johnson, Miss. Eleanor Ileen  female   1.00      1   \n",
      "183                        Becker, Master. Richard F    male   1.00      2   \n",
      "184              Kink-Heilmann, Miss. Luise Gretchen  female   4.00      0   \n",
      "193                       Navratil, Master. Michel M    male   3.00      1   \n",
      "233                   Asplund, Miss. Lillian Gertrud  female   5.00      4   \n",
      "237                 Collyer, Miss. Marjorie \"Lottie\"  female   8.00      0   \n",
      "261                Asplund, Master. Edvin Rojj Felix    male   3.00      4   \n",
      "305                   Allison, Master. Hudson Trevor    male   0.92      1   \n",
      "340                   Navratil, Master. Edmond Roger    male   2.00      1   \n",
      "348           Coutts, Master. William Loch \"William\"    male   3.00      1   \n",
      "381                      Nakid, Miss. Maria (\"Mary\")  female   1.00      0   \n",
      "407                   Richards, Master. William Rowe    male   3.00      1   \n",
      "445                        Dodge, Master. Washington    male   4.00      0   \n",
      "448                   Baclini, Miss. Marie Catherine  female   5.00      2   \n",
      "469                    Baclini, Miss. Helene Barbara  female   0.75      2   \n",
      "479                         Hirvonen, Miss. Hildur E  female   2.00      0   \n",
      "489            Coutts, Master. Eden Leslie \"Neville\"    male   9.00      1   \n",
      "530                         Quick, Miss. Phyllis May  female   2.00      1   \n",
      "535                           Hart, Miss. Eva Miriam  female   7.00      0   \n",
      "549                   Davies, Master. John Morgan Jr    male   8.00      1   \n",
      "618                      Becker, Miss. Marion Louise  female   4.00      2   \n",
      "644                           Baclini, Miss. Eugenie  female   0.75      2   \n",
      "691                               Karun, Miss. Manca  female   4.00      0   \n",
      "720                Harper, Miss. Annie Jessie \"Nina\"  female   6.00      0   \n",
      "750                                Wells, Miss. Joan  female   4.00      1   \n",
      "751                              Moor, Master. Meier    male   6.00      0   \n",
      "755                        Hamalainen, Master. Viljo    male   0.67      1   \n",
      "777                    Emanuel, Miss. Virginia Ethel  female   5.00      0   \n",
      "788                       Dean, Master. Bertram Vere    male   1.00      1   \n",
      "802              Carter, Master. William Thornton II    male  11.00      1   \n",
      "803                  Thomas, Master. Assad Alexander    male   0.42      0   \n",
      "827                            Mallet, Master. Andre    male   1.00      0   \n",
      "831                  Richards, Master. George Sibley    male   0.83      1   \n",
      "869                  Johnson, Master. Harold Theodor    male   4.00      1   \n",
      "\n",
      "     Parch           Ticket      Fare    Cabin Embarked deck  \n",
      "10       1          PP 9549   16.7000       G6        S    G  \n",
      "43       2    SC/Paris 2123   41.5792      NaN        C    U  \n",
      "58       2       C.A. 34651   27.7500      NaN        S    U  \n",
      "78       2           248738   29.0000      NaN        S    U  \n",
      "165      2           363291   20.5250      NaN        S    U  \n",
      "172      1           347742   11.1333      NaN        S    U  \n",
      "183      1           230136   39.0000       F4        S    F  \n",
      "184      2           315153   22.0250      NaN        S    U  \n",
      "193      1           230080   26.0000       F2        S    F  \n",
      "233      2           347077   31.3875      NaN        S    U  \n",
      "237      2       C.A. 31921   26.2500      NaN        S    U  \n",
      "261      2           347077   31.3875      NaN        S    U  \n",
      "305      2           113781  151.5500  C22 C26        S    C  \n",
      "340      1           230080   26.0000       F2        S    F  \n",
      "348      1       C.A. 37671   15.9000      NaN        S    U  \n",
      "381      2             2653   15.7417      NaN        C    U  \n",
      "407      1            29106   18.7500      NaN        S    U  \n",
      "445      2            33638   81.8583      A34        S    A  \n",
      "448      1             2666   19.2583      NaN        C    U  \n",
      "469      1             2666   19.2583      NaN        C    U  \n",
      "479      1          3101298   12.2875      NaN        S    U  \n",
      "489      1       C.A. 37671   15.9000      NaN        S    U  \n",
      "530      1            26360   26.0000      NaN        S    U  \n",
      "535      2     F.C.C. 13529   26.2500      NaN        S    U  \n",
      "549      1       C.A. 33112   36.7500      NaN        S    U  \n",
      "618      1           230136   39.0000       F4        S    F  \n",
      "644      1             2666   19.2583      NaN        C    U  \n",
      "691      1           349256   13.4167      NaN        C    U  \n",
      "720      1           248727   33.0000      NaN        S    U  \n",
      "750      1            29103   23.0000      NaN        S    U  \n",
      "751      1           392096   12.4750     E121        S    E  \n",
      "755      1           250649   14.5000      NaN        S    U  \n",
      "777      0           364516   12.4750      NaN        S    U  \n",
      "788      2        C.A. 2315   20.5750      NaN        S    U  \n",
      "802      2           113760  120.0000  B96 B98        S    B  \n",
      "803      1             2625    8.5167      NaN        C    U  \n",
      "827      2  S.C./PARIS 2079   37.0042      NaN        C    U  \n",
      "831      1            29106   18.7500      NaN        S    U  \n",
      "869      1           347742   11.1333      NaN        S    U  \n"
     ]
    }
   ],
   "source": [
    "# Query5:Children (Age < 12) who survived\n",
    "print(df[(df['Age']<12 )& (df['Survived']==1)])"
   ]
  },
  {
   "cell_type": "code",
   "execution_count": 20,
   "id": "a95ff2bf",
   "metadata": {},
   "outputs": [
    {
     "name": "stdout",
     "output_type": "stream",
     "text": [
      "                                         Name   Age\n",
      "0                     Braund, Mr. Owen Harris  22.0\n",
      "2                      Heikkinen, Miss. Laina  26.0\n",
      "4                    Allen, Mr. William Henry  35.0\n",
      "5                            Moran, Mr. James  28.0\n",
      "7              Palsson, Master. Gosta Leonard   2.0\n",
      "..                                        ...   ...\n",
      "884                    Sutehall, Mr. Henry Jr  25.0\n",
      "885      Rice, Mrs. William (Margaret Norton)  39.0\n",
      "886                     Montvila, Rev. Juozas  27.0\n",
      "888  Johnston, Miss. Catherine Helen \"Carrie\"  28.0\n",
      "890                       Dooley, Mr. Patrick  32.0\n",
      "\n",
      "[687 rows x 2 columns]\n"
     ]
    }
   ],
   "source": [
    "# Query6: Name and Age of passengers with missing Cabin info\n",
    "print(df[df['Cabin'].isnull()][['Name','Age']])\n"
   ]
  },
  {
   "cell_type": "code",
   "execution_count": 21,
   "id": "82fb5b40",
   "metadata": {},
   "outputs": [
    {
     "name": "stdout",
     "output_type": "stream",
     "text": [
      "     PassengerId                                      Name\n",
      "2              3                    Heikkinen, Miss. Laina\n",
      "10            11           Sandstrom, Miss. Marguerite Rut\n",
      "11            12                  Bonnell, Miss. Elizabeth\n",
      "14            15      Vestrom, Miss. Hulda Amanda Adolfina\n",
      "22            23               McGowan, Miss. Anna \"Annie\"\n",
      "..           ...                                       ...\n",
      "866          867              Duran y More, Miss. Asuncion\n",
      "875          876          Najib, Miss. Adele Kiamie \"Jane\"\n",
      "882          883              Dahlberg, Miss. Gerda Ulrika\n",
      "887          888              Graham, Miss. Margaret Edith\n",
      "888          889  Johnston, Miss. Catherine Helen \"Carrie\"\n",
      "\n",
      "[182 rows x 2 columns]\n"
     ]
    }
   ],
   "source": [
    "# Query7:All passengers whose name contains 'Miss'\n",
    "print(df[df['Name'].str.contains('Miss')][['PassengerId','Name']])"
   ]
  },
  {
   "cell_type": "markdown",
   "id": "2db54491",
   "metadata": {},
   "source": [
    "# Grouping Data "
   ]
  },
  {
   "cell_type": "code",
   "execution_count": 22,
   "id": "97b7a59f",
   "metadata": {},
   "outputs": [
    {
     "name": "stdout",
     "output_type": "stream",
     "text": [
      "Pclass\n",
      "1    84.154687\n",
      "2    20.662183\n",
      "3    13.675550\n",
      "Name: Fare, dtype: float64\n",
      "Sex\n",
      "female    74.203822\n",
      "male      18.890815\n",
      "Name: Survived, dtype: float64\n",
      "Sex\n",
      "female    27.929936\n",
      "male      30.140676\n",
      "Name: Age, dtype: float64\n",
      "Pclass\n",
      "1    136\n",
      "2     87\n",
      "3    119\n",
      "Name: Survived, dtype: int64\n",
      "Pclass  Sex   \n",
      "1       female    0.968085\n",
      "        male      0.368852\n",
      "2       female    0.921053\n",
      "        male      0.157407\n",
      "3       female    0.500000\n",
      "        male      0.135447\n",
      "Name: Survived, dtype: float64\n"
     ]
    },
    {
     "name": "stderr",
     "output_type": "stream",
     "text": [
      "C:\\Users\\anujs\\AppData\\Local\\Temp\\ipykernel_1316\\1296869449.py:4: FutureWarning: The default of observed=False is deprecated and will be changed to True in a future version of pandas. Pass observed=False to retain current behavior or observed=True to adopt the future default and silence this warning.\n",
      "  print(f\"{df.groupby('Sex')['Survived'].mean()*100}\")\n",
      "C:\\Users\\anujs\\AppData\\Local\\Temp\\ipykernel_1316\\1296869449.py:6: FutureWarning: The default of observed=False is deprecated and will be changed to True in a future version of pandas. Pass observed=False to retain current behavior or observed=True to adopt the future default and silence this warning.\n",
      "  print(f\"{df.groupby('Sex')['Age'].mean()}\")\n",
      "C:\\Users\\anujs\\AppData\\Local\\Temp\\ipykernel_1316\\1296869449.py:10: FutureWarning: The default of observed=False is deprecated and will be changed to True in a future version of pandas. Pass observed=False to retain current behavior or observed=True to adopt the future default and silence this warning.\n",
      "  print(f\"{df.groupby(['Pclass','Sex'])['Survived'].mean()}\")\n"
     ]
    }
   ],
   "source": [
    "# 1. Average Fare by each Passenger Class\n",
    "print(df.groupby('Pclass')['Fare'].mean())\n",
    "# 2.  Survival Rate by Gender\n",
    "print(f\"{df.groupby('Sex')['Survived'].mean()*100}\")\n",
    "#3.Average Age by Gender\n",
    "print(f\"{df.groupby('Sex')['Age'].mean()}\")\n",
    "# 4. Survival Count by Passenger Class\n",
    "print(f\"{df.groupby('Pclass')['Survived'].sum()}\")\n",
    "# 5. Survival Rate by Class and Gender\n",
    "print(f\"{df.groupby(['Pclass','Sex'])['Survived'].mean()}\")"
   ]
  },
  {
   "cell_type": "code",
   "execution_count": 27,
   "id": "ddd8a7e7",
   "metadata": {},
   "outputs": [
    {
     "name": "stdout",
     "output_type": "stream",
     "text": [
      "   PassengerId  Survived  Pclass  \\\n",
      "0            1         0       3   \n",
      "1            2         1       1   \n",
      "2            3         1       3   \n",
      "3            4         1       1   \n",
      "4            5         0       3   \n",
      "\n",
      "                                                Name     Sex   Age  SibSp  \\\n",
      "0                            Braund, Mr. Owen Harris    male  22.0      1   \n",
      "1  Cumings, Mrs. John Bradley (Florence Briggs Th...  female  38.0      1   \n",
      "2                             Heikkinen, Miss. Laina  female  26.0      0   \n",
      "3       Futrelle, Mrs. Jacques Heath (Lily May Peel)  female  35.0      1   \n",
      "4                           Allen, Mr. William Henry    male  35.0      0   \n",
      "\n",
      "   Parch            Ticket     Fare Embarked deck  FamilySize  IsAlone  \\\n",
      "0      0         A/5 21171   7.2500        S    U           2        0   \n",
      "1      0          PC 17599  71.2833        C    C           2        0   \n",
      "2      0  STON/O2. 3101282   7.9250        S    U           1        1   \n",
      "3      0            113803  53.1000        S    C           2        0   \n",
      "4      0            373450   8.0500        S    U           1        1   \n",
      "\n",
      "  AgeGroup  \n",
      "0    Adult  \n",
      "1    Adult  \n",
      "2    Adult  \n",
      "3    Adult  \n",
      "4    Adult  \n"
     ]
    }
   ],
   "source": [
    "df.drop('Cabin',axis=1,inplace=True) #already deleted from dataset\n",
    "print(df.head())"
   ]
  },
  {
   "cell_type": "markdown",
   "id": "8eafd469",
   "metadata": {},
   "source": [
    "# Feature Engineering"
   ]
  },
  {
   "cell_type": "code",
   "execution_count": 24,
   "id": "5f8062da",
   "metadata": {},
   "outputs": [
    {
     "name": "stdout",
     "output_type": "stream",
     "text": [
      "   PassengerId  Survived  Pclass  \\\n",
      "0            1         0       3   \n",
      "1            2         1       1   \n",
      "2            3         1       3   \n",
      "3            4         1       1   \n",
      "4            5         0       3   \n",
      "\n",
      "                                                Name     Sex   Age  SibSp  \\\n",
      "0                            Braund, Mr. Owen Harris    male  22.0      1   \n",
      "1  Cumings, Mrs. John Bradley (Florence Briggs Th...  female  38.0      1   \n",
      "2                             Heikkinen, Miss. Laina  female  26.0      0   \n",
      "3       Futrelle, Mrs. Jacques Heath (Lily May Peel)  female  35.0      1   \n",
      "4                           Allen, Mr. William Henry    male  35.0      0   \n",
      "\n",
      "   Parch            Ticket     Fare Cabin Embarked deck  FamilySize  IsAlone  \\\n",
      "0      0         A/5 21171   7.2500   NaN        S    U           2        0   \n",
      "1      0          PC 17599  71.2833   C85        C    C           2        0   \n",
      "2      0  STON/O2. 3101282   7.9250   NaN        S    U           1        1   \n",
      "3      0            113803  53.1000  C123        S    C           2        0   \n",
      "4      0            373450   8.0500   NaN        S    U           1        1   \n",
      "\n",
      "  AgeGroup  \n",
      "0    Adult  \n",
      "1    Adult  \n",
      "2    Adult  \n",
      "3    Adult  \n",
      "4    Adult  \n"
     ]
    }
   ],
   "source": [
    "# Total Family size\n",
    "df['FamilySize'] = df['Parch'] + df['SibSp'] +1 # counting passenger as well\n",
    "# Is alone column\n",
    "df['IsAlone'] = (df['FamilySize'] == 1).astype(int)\n",
    "# Creating age groups \n",
    "df['AgeGroup'] = pd.cut(df['Age'],\n",
    "                        bins=[0, 12, 18, 60, 100],\n",
    "                        labels=['Child', 'Teen', 'Adult', 'Senior'])\n",
    "print(df.head())\n",
    "\n"
   ]
  },
  {
   "cell_type": "markdown",
   "id": "2899861b",
   "metadata": {},
   "source": [
    "# Correlation Analysis"
   ]
  },
  {
   "cell_type": "code",
   "execution_count": 25,
   "id": "94cd7951",
   "metadata": {},
   "outputs": [
    {
     "name": "stdout",
     "output_type": "stream",
     "text": [
      "             PassengerId  Survived    Pclass       Age     SibSp     Parch  \\\n",
      "PassengerId     1.000000 -0.005007 -0.035144  0.034212 -0.057527 -0.001652   \n",
      "Survived       -0.005007  1.000000 -0.338481 -0.064910 -0.035322  0.081629   \n",
      "Pclass         -0.035144 -0.338481  1.000000 -0.339898  0.083081  0.018443   \n",
      "Age             0.034212 -0.064910 -0.339898  1.000000 -0.233296 -0.172482   \n",
      "SibSp          -0.057527 -0.035322  0.083081 -0.233296  1.000000  0.414838   \n",
      "Parch          -0.001652  0.081629  0.018443 -0.172482  0.414838  1.000000   \n",
      "Fare            0.012658  0.257307 -0.549500  0.096688  0.159651  0.216225   \n",
      "FamilySize     -0.040143  0.016639  0.065997 -0.245619  0.890712  0.783111   \n",
      "IsAlone         0.057462 -0.203367  0.135207  0.171647 -0.584471 -0.583398   \n",
      "\n",
      "                 Fare  FamilySize   IsAlone  \n",
      "PassengerId  0.012658   -0.040143  0.057462  \n",
      "Survived     0.257307    0.016639 -0.203367  \n",
      "Pclass      -0.549500    0.065997  0.135207  \n",
      "Age          0.096688   -0.245619  0.171647  \n",
      "SibSp        0.159651    0.890712 -0.584471  \n",
      "Parch        0.216225    0.783111 -0.583398  \n",
      "Fare         1.000000    0.217138 -0.271832  \n",
      "FamilySize   0.217138    1.000000 -0.690922  \n",
      "IsAlone     -0.271832   -0.690922  1.000000  \n"
     ]
    }
   ],
   "source": [
    "correlation_matrix = df.corr(numeric_only=True)\n",
    "print(correlation_matrix)"
   ]
  },
  {
   "cell_type": "code",
   "execution_count": 28,
   "id": "4951c601",
   "metadata": {},
   "outputs": [],
   "source": [
    "df.to_csv(\"Titanic_cleaned_Dataset.csv\",index=False)"
   ]
  }
 ],
 "metadata": {
  "kernelspec": {
   "display_name": "env3",
   "language": "python",
   "name": "python3"
  },
  "language_info": {
   "codemirror_mode": {
    "name": "ipython",
    "version": 3
   },
   "file_extension": ".py",
   "mimetype": "text/x-python",
   "name": "python",
   "nbconvert_exporter": "python",
   "pygments_lexer": "ipython3",
   "version": "3.13.5"
  }
 },
 "nbformat": 4,
 "nbformat_minor": 5
}
